{
  "nbformat": 4,
  "nbformat_minor": 0,
  "metadata": {
    "colab": {
      "name": "Customer_LifeTime_Value_Prediction_Model.ipynb",
      "provenance": [],
      "collapsed_sections": []
    },
    "kernelspec": {
      "name": "python3",
      "display_name": "Python 3"
    },
    "language_info": {
      "name": "python"
    }
  },
  "cells": [
    {
      "cell_type": "markdown",
      "metadata": {
        "id": "HM-fW_bP0E8B"
      },
      "source": [
        "\n",
        "## Problem Statement :-\n",
        "Customer Lifetime Value represents a customer’s value to a company over a period of time. It’s a competitive market for insurance companies in 2019, and insurance premium isn’t the only determining factor in a customer’s decisions. CLV is a customer-centric metric, and a powerful base to build upon to retain valuable customers, increase revenue from less valuable customers, and improve the customer experience overall.\n",
        "\n",
        "Auto Insurance company is facing issues in retaining its customers and wants to advertise promotional offers for its loyal customers. They are considering CLV as a parameter to classify loyal customers."
      ]
    },
    {
      "cell_type": "code",
      "metadata": {
        "id": "IgCcRLBlUtoM"
      },
      "source": [
        "#Importing required libraries \n",
        "import pandas as pd\n",
        "import numpy as np\n",
        "import seaborn as sns\n",
        "import matplotlib.pyplot as plt\n",
        "%matplotlib inline\n",
        "import warnings\n",
        "warnings.filterwarnings('ignore')"
      ],
      "execution_count": 1,
      "outputs": []
    },
    {
      "cell_type": "code",
      "metadata": {
        "id": "13Ok-gdbVEAy"
      },
      "source": [
        "#Loading dataset\n",
        "df = pd.read_csv(\"/content/drive/MyDrive/ML_Projects/Customer_LifeTime_Value_Prediction/AutoInsurance.csv\")"
      ],
      "execution_count": 2,
      "outputs": []
    },
    {
      "cell_type": "code",
      "metadata": {
        "colab": {
          "base_uri": "https://localhost:8080/",
          "height": 428
        },
        "id": "c72BvgJEVEFA",
        "outputId": "49e21ce7-5a3d-40ec-96d3-a486a08655ff"
      },
      "source": [
        "df.head()"
      ],
      "execution_count": 3,
      "outputs": [
        {
          "output_type": "execute_result",
          "data": {
            "text/html": [
              "<div>\n",
              "<style scoped>\n",
              "    .dataframe tbody tr th:only-of-type {\n",
              "        vertical-align: middle;\n",
              "    }\n",
              "\n",
              "    .dataframe tbody tr th {\n",
              "        vertical-align: top;\n",
              "    }\n",
              "\n",
              "    .dataframe thead th {\n",
              "        text-align: right;\n",
              "    }\n",
              "</style>\n",
              "<table border=\"1\" class=\"dataframe\">\n",
              "  <thead>\n",
              "    <tr style=\"text-align: right;\">\n",
              "      <th></th>\n",
              "      <th>Customer</th>\n",
              "      <th>State</th>\n",
              "      <th>Customer Lifetime Value</th>\n",
              "      <th>Response</th>\n",
              "      <th>Coverage</th>\n",
              "      <th>Education</th>\n",
              "      <th>Effective To Date</th>\n",
              "      <th>EmploymentStatus</th>\n",
              "      <th>Gender</th>\n",
              "      <th>Income</th>\n",
              "      <th>Location Code</th>\n",
              "      <th>Marital Status</th>\n",
              "      <th>Monthly Premium Auto</th>\n",
              "      <th>Months Since Last Claim</th>\n",
              "      <th>Months Since Policy Inception</th>\n",
              "      <th>Number of Open Complaints</th>\n",
              "      <th>Number of Policies</th>\n",
              "      <th>Policy Type</th>\n",
              "      <th>Policy</th>\n",
              "      <th>Renew Offer Type</th>\n",
              "      <th>Sales Channel</th>\n",
              "      <th>Total Claim Amount</th>\n",
              "      <th>Vehicle Class</th>\n",
              "      <th>Vehicle Size</th>\n",
              "    </tr>\n",
              "  </thead>\n",
              "  <tbody>\n",
              "    <tr>\n",
              "      <th>0</th>\n",
              "      <td>BU79786</td>\n",
              "      <td>Washington</td>\n",
              "      <td>2763.519279</td>\n",
              "      <td>No</td>\n",
              "      <td>Basic</td>\n",
              "      <td>Bachelor</td>\n",
              "      <td>2/24/11</td>\n",
              "      <td>Employed</td>\n",
              "      <td>F</td>\n",
              "      <td>56274</td>\n",
              "      <td>Suburban</td>\n",
              "      <td>Married</td>\n",
              "      <td>69</td>\n",
              "      <td>32</td>\n",
              "      <td>5</td>\n",
              "      <td>0</td>\n",
              "      <td>1</td>\n",
              "      <td>Corporate Auto</td>\n",
              "      <td>Corporate L3</td>\n",
              "      <td>Offer1</td>\n",
              "      <td>Agent</td>\n",
              "      <td>384.811147</td>\n",
              "      <td>Two-Door Car</td>\n",
              "      <td>Medsize</td>\n",
              "    </tr>\n",
              "    <tr>\n",
              "      <th>1</th>\n",
              "      <td>QZ44356</td>\n",
              "      <td>Arizona</td>\n",
              "      <td>6979.535903</td>\n",
              "      <td>No</td>\n",
              "      <td>Extended</td>\n",
              "      <td>Bachelor</td>\n",
              "      <td>1/31/11</td>\n",
              "      <td>Unemployed</td>\n",
              "      <td>F</td>\n",
              "      <td>0</td>\n",
              "      <td>Suburban</td>\n",
              "      <td>Single</td>\n",
              "      <td>94</td>\n",
              "      <td>13</td>\n",
              "      <td>42</td>\n",
              "      <td>0</td>\n",
              "      <td>8</td>\n",
              "      <td>Personal Auto</td>\n",
              "      <td>Personal L3</td>\n",
              "      <td>Offer3</td>\n",
              "      <td>Agent</td>\n",
              "      <td>1131.464935</td>\n",
              "      <td>Four-Door Car</td>\n",
              "      <td>Medsize</td>\n",
              "    </tr>\n",
              "    <tr>\n",
              "      <th>2</th>\n",
              "      <td>AI49188</td>\n",
              "      <td>Nevada</td>\n",
              "      <td>12887.431650</td>\n",
              "      <td>No</td>\n",
              "      <td>Premium</td>\n",
              "      <td>Bachelor</td>\n",
              "      <td>2/19/11</td>\n",
              "      <td>Employed</td>\n",
              "      <td>F</td>\n",
              "      <td>48767</td>\n",
              "      <td>Suburban</td>\n",
              "      <td>Married</td>\n",
              "      <td>108</td>\n",
              "      <td>18</td>\n",
              "      <td>38</td>\n",
              "      <td>0</td>\n",
              "      <td>2</td>\n",
              "      <td>Personal Auto</td>\n",
              "      <td>Personal L3</td>\n",
              "      <td>Offer1</td>\n",
              "      <td>Agent</td>\n",
              "      <td>566.472247</td>\n",
              "      <td>Two-Door Car</td>\n",
              "      <td>Medsize</td>\n",
              "    </tr>\n",
              "    <tr>\n",
              "      <th>3</th>\n",
              "      <td>WW63253</td>\n",
              "      <td>California</td>\n",
              "      <td>7645.861827</td>\n",
              "      <td>No</td>\n",
              "      <td>Basic</td>\n",
              "      <td>Bachelor</td>\n",
              "      <td>1/20/11</td>\n",
              "      <td>Unemployed</td>\n",
              "      <td>M</td>\n",
              "      <td>0</td>\n",
              "      <td>Suburban</td>\n",
              "      <td>Married</td>\n",
              "      <td>106</td>\n",
              "      <td>18</td>\n",
              "      <td>65</td>\n",
              "      <td>0</td>\n",
              "      <td>7</td>\n",
              "      <td>Corporate Auto</td>\n",
              "      <td>Corporate L2</td>\n",
              "      <td>Offer1</td>\n",
              "      <td>Call Center</td>\n",
              "      <td>529.881344</td>\n",
              "      <td>SUV</td>\n",
              "      <td>Medsize</td>\n",
              "    </tr>\n",
              "    <tr>\n",
              "      <th>4</th>\n",
              "      <td>HB64268</td>\n",
              "      <td>Washington</td>\n",
              "      <td>2813.692575</td>\n",
              "      <td>No</td>\n",
              "      <td>Basic</td>\n",
              "      <td>Bachelor</td>\n",
              "      <td>3/2/2011</td>\n",
              "      <td>Employed</td>\n",
              "      <td>M</td>\n",
              "      <td>43836</td>\n",
              "      <td>Rural</td>\n",
              "      <td>Single</td>\n",
              "      <td>73</td>\n",
              "      <td>12</td>\n",
              "      <td>44</td>\n",
              "      <td>0</td>\n",
              "      <td>1</td>\n",
              "      <td>Personal Auto</td>\n",
              "      <td>Personal L1</td>\n",
              "      <td>Offer1</td>\n",
              "      <td>Agent</td>\n",
              "      <td>138.130879</td>\n",
              "      <td>Four-Door Car</td>\n",
              "      <td>Medsize</td>\n",
              "    </tr>\n",
              "  </tbody>\n",
              "</table>\n",
              "</div>"
            ],
            "text/plain": [
              "  Customer       State  ...  Vehicle Class Vehicle Size\n",
              "0  BU79786  Washington  ...   Two-Door Car      Medsize\n",
              "1  QZ44356     Arizona  ...  Four-Door Car      Medsize\n",
              "2  AI49188      Nevada  ...   Two-Door Car      Medsize\n",
              "3  WW63253  California  ...            SUV      Medsize\n",
              "4  HB64268  Washington  ...  Four-Door Car      Medsize\n",
              "\n",
              "[5 rows x 24 columns]"
            ]
          },
          "metadata": {
            "tags": []
          },
          "execution_count": 3
        }
      ]
    },
    {
      "cell_type": "code",
      "metadata": {
        "colab": {
          "base_uri": "https://localhost:8080/"
        },
        "id": "AQqmM1q3VEIp",
        "outputId": "38f3e8b9-2fcf-4761-8ceb-38c72bab42c2"
      },
      "source": [
        "#Shape of dataset\n",
        "df.shape"
      ],
      "execution_count": 4,
      "outputs": [
        {
          "output_type": "execute_result",
          "data": {
            "text/plain": [
              "(9134, 24)"
            ]
          },
          "metadata": {
            "tags": []
          },
          "execution_count": 4
        }
      ]
    },
    {
      "cell_type": "code",
      "metadata": {
        "colab": {
          "base_uri": "https://localhost:8080/"
        },
        "id": "5sIUtNhWVEMw",
        "outputId": "274f74f0-f1b9-41a6-f68c-491355def405"
      },
      "source": [
        "#Statistical Summary of dataset\n",
        "df.info()"
      ],
      "execution_count": 5,
      "outputs": [
        {
          "output_type": "stream",
          "text": [
            "<class 'pandas.core.frame.DataFrame'>\n",
            "RangeIndex: 9134 entries, 0 to 9133\n",
            "Data columns (total 24 columns):\n",
            " #   Column                         Non-Null Count  Dtype  \n",
            "---  ------                         --------------  -----  \n",
            " 0   Customer                       9134 non-null   object \n",
            " 1   State                          9134 non-null   object \n",
            " 2   Customer Lifetime Value        9134 non-null   float64\n",
            " 3   Response                       9134 non-null   object \n",
            " 4   Coverage                       9134 non-null   object \n",
            " 5   Education                      9134 non-null   object \n",
            " 6   Effective To Date              9134 non-null   object \n",
            " 7   EmploymentStatus               9134 non-null   object \n",
            " 8   Gender                         9134 non-null   object \n",
            " 9   Income                         9134 non-null   int64  \n",
            " 10  Location Code                  9134 non-null   object \n",
            " 11  Marital Status                 9134 non-null   object \n",
            " 12  Monthly Premium Auto           9134 non-null   int64  \n",
            " 13  Months Since Last Claim        9134 non-null   int64  \n",
            " 14  Months Since Policy Inception  9134 non-null   int64  \n",
            " 15  Number of Open Complaints      9134 non-null   int64  \n",
            " 16  Number of Policies             9134 non-null   int64  \n",
            " 17  Policy Type                    9134 non-null   object \n",
            " 18  Policy                         9134 non-null   object \n",
            " 19  Renew Offer Type               9134 non-null   object \n",
            " 20  Sales Channel                  9134 non-null   object \n",
            " 21  Total Claim Amount             9134 non-null   float64\n",
            " 22  Vehicle Class                  9134 non-null   object \n",
            " 23  Vehicle Size                   9134 non-null   object \n",
            "dtypes: float64(2), int64(6), object(16)\n",
            "memory usage: 1.7+ MB\n"
          ],
          "name": "stdout"
        }
      ]
    },
    {
      "cell_type": "code",
      "metadata": {
        "colab": {
          "base_uri": "https://localhost:8080/"
        },
        "id": "JHcupU5SVEQj",
        "outputId": "a290c7b2-88e8-4cde-87f5-e0e6b3b645a4"
      },
      "source": [
        "#Columns of data\n",
        "df.columns"
      ],
      "execution_count": 6,
      "outputs": [
        {
          "output_type": "execute_result",
          "data": {
            "text/plain": [
              "Index(['Customer', 'State', 'Customer Lifetime Value', 'Response', 'Coverage',\n",
              "       'Education', 'Effective To Date', 'EmploymentStatus', 'Gender',\n",
              "       'Income', 'Location Code', 'Marital Status', 'Monthly Premium Auto',\n",
              "       'Months Since Last Claim', 'Months Since Policy Inception',\n",
              "       'Number of Open Complaints', 'Number of Policies', 'Policy Type',\n",
              "       'Policy', 'Renew Offer Type', 'Sales Channel', 'Total Claim Amount',\n",
              "       'Vehicle Class', 'Vehicle Size'],\n",
              "      dtype='object')"
            ]
          },
          "metadata": {
            "tags": []
          },
          "execution_count": 6
        }
      ]
    },
    {
      "cell_type": "code",
      "metadata": {
        "colab": {
          "base_uri": "https://localhost:8080/"
        },
        "id": "AQsjRegZVEUQ",
        "outputId": "f8ba6afb-2072-4dd9-d283-8554c5979273"
      },
      "source": [
        "#Checking missing values in dataset\n",
        "df.isnull().sum()"
      ],
      "execution_count": 7,
      "outputs": [
        {
          "output_type": "execute_result",
          "data": {
            "text/plain": [
              "Customer                         0\n",
              "State                            0\n",
              "Customer Lifetime Value          0\n",
              "Response                         0\n",
              "Coverage                         0\n",
              "Education                        0\n",
              "Effective To Date                0\n",
              "EmploymentStatus                 0\n",
              "Gender                           0\n",
              "Income                           0\n",
              "Location Code                    0\n",
              "Marital Status                   0\n",
              "Monthly Premium Auto             0\n",
              "Months Since Last Claim          0\n",
              "Months Since Policy Inception    0\n",
              "Number of Open Complaints        0\n",
              "Number of Policies               0\n",
              "Policy Type                      0\n",
              "Policy                           0\n",
              "Renew Offer Type                 0\n",
              "Sales Channel                    0\n",
              "Total Claim Amount               0\n",
              "Vehicle Class                    0\n",
              "Vehicle Size                     0\n",
              "dtype: int64"
            ]
          },
          "metadata": {
            "tags": []
          },
          "execution_count": 7
        }
      ]
    },
    {
      "cell_type": "code",
      "metadata": {
        "id": "f5LbP8ASVEX3"
      },
      "source": [
        "#We can see that there is no missing values in dataset"
      ],
      "execution_count": 8,
      "outputs": []
    },
    {
      "cell_type": "code",
      "metadata": {
        "id": "4RtHl_zFVEb3"
      },
      "source": [
        "df.rename(columns={'Customer Lifetime Value': 'CLV'}, inplace= True)"
      ],
      "execution_count": 9,
      "outputs": []
    },
    {
      "cell_type": "code",
      "metadata": {
        "id": "IoW0z0_tVEfb"
      },
      "source": [
        "#Numerical columns\n",
        "numerical_cols = df.select_dtypes(['int64', 'float64'])"
      ],
      "execution_count": 10,
      "outputs": []
    },
    {
      "cell_type": "code",
      "metadata": {
        "colab": {
          "base_uri": "https://localhost:8080/"
        },
        "id": "BDi_ncE7VEjD",
        "outputId": "74783612-e7b3-4168-8bea-3033bfccee26"
      },
      "source": [
        "numerical_cols.columns"
      ],
      "execution_count": 11,
      "outputs": [
        {
          "output_type": "execute_result",
          "data": {
            "text/plain": [
              "Index(['CLV', 'Income', 'Monthly Premium Auto', 'Months Since Last Claim',\n",
              "       'Months Since Policy Inception', 'Number of Open Complaints',\n",
              "       'Number of Policies', 'Total Claim Amount'],\n",
              "      dtype='object')"
            ]
          },
          "metadata": {
            "tags": []
          },
          "execution_count": 11
        }
      ]
    },
    {
      "cell_type": "code",
      "metadata": {
        "colab": {
          "base_uri": "https://localhost:8080/",
          "height": 314
        },
        "id": "-wE1-5FnVEmy",
        "outputId": "b5325273-7ad0-474a-9eec-20a27ca6ca7f"
      },
      "source": [
        "#Statistical summary of numerical columns\n",
        "numerical_cols.describe()"
      ],
      "execution_count": 13,
      "outputs": [
        {
          "output_type": "execute_result",
          "data": {
            "text/html": [
              "<div>\n",
              "<style scoped>\n",
              "    .dataframe tbody tr th:only-of-type {\n",
              "        vertical-align: middle;\n",
              "    }\n",
              "\n",
              "    .dataframe tbody tr th {\n",
              "        vertical-align: top;\n",
              "    }\n",
              "\n",
              "    .dataframe thead th {\n",
              "        text-align: right;\n",
              "    }\n",
              "</style>\n",
              "<table border=\"1\" class=\"dataframe\">\n",
              "  <thead>\n",
              "    <tr style=\"text-align: right;\">\n",
              "      <th></th>\n",
              "      <th>CLV</th>\n",
              "      <th>Income</th>\n",
              "      <th>Monthly Premium Auto</th>\n",
              "      <th>Months Since Last Claim</th>\n",
              "      <th>Months Since Policy Inception</th>\n",
              "      <th>Number of Open Complaints</th>\n",
              "      <th>Number of Policies</th>\n",
              "      <th>Total Claim Amount</th>\n",
              "    </tr>\n",
              "  </thead>\n",
              "  <tbody>\n",
              "    <tr>\n",
              "      <th>count</th>\n",
              "      <td>9134.000000</td>\n",
              "      <td>9134.000000</td>\n",
              "      <td>9134.000000</td>\n",
              "      <td>9134.000000</td>\n",
              "      <td>9134.000000</td>\n",
              "      <td>9134.000000</td>\n",
              "      <td>9134.000000</td>\n",
              "      <td>9134.000000</td>\n",
              "    </tr>\n",
              "    <tr>\n",
              "      <th>mean</th>\n",
              "      <td>8004.940475</td>\n",
              "      <td>37657.380009</td>\n",
              "      <td>93.219291</td>\n",
              "      <td>15.097000</td>\n",
              "      <td>48.064594</td>\n",
              "      <td>0.384388</td>\n",
              "      <td>2.966170</td>\n",
              "      <td>434.088794</td>\n",
              "    </tr>\n",
              "    <tr>\n",
              "      <th>std</th>\n",
              "      <td>6870.967608</td>\n",
              "      <td>30379.904734</td>\n",
              "      <td>34.407967</td>\n",
              "      <td>10.073257</td>\n",
              "      <td>27.905991</td>\n",
              "      <td>0.910384</td>\n",
              "      <td>2.390182</td>\n",
              "      <td>290.500092</td>\n",
              "    </tr>\n",
              "    <tr>\n",
              "      <th>min</th>\n",
              "      <td>1898.007675</td>\n",
              "      <td>0.000000</td>\n",
              "      <td>61.000000</td>\n",
              "      <td>0.000000</td>\n",
              "      <td>0.000000</td>\n",
              "      <td>0.000000</td>\n",
              "      <td>1.000000</td>\n",
              "      <td>0.099007</td>\n",
              "    </tr>\n",
              "    <tr>\n",
              "      <th>25%</th>\n",
              "      <td>3994.251794</td>\n",
              "      <td>0.000000</td>\n",
              "      <td>68.000000</td>\n",
              "      <td>6.000000</td>\n",
              "      <td>24.000000</td>\n",
              "      <td>0.000000</td>\n",
              "      <td>1.000000</td>\n",
              "      <td>272.258244</td>\n",
              "    </tr>\n",
              "    <tr>\n",
              "      <th>50%</th>\n",
              "      <td>5780.182197</td>\n",
              "      <td>33889.500000</td>\n",
              "      <td>83.000000</td>\n",
              "      <td>14.000000</td>\n",
              "      <td>48.000000</td>\n",
              "      <td>0.000000</td>\n",
              "      <td>2.000000</td>\n",
              "      <td>383.945434</td>\n",
              "    </tr>\n",
              "    <tr>\n",
              "      <th>75%</th>\n",
              "      <td>8962.167041</td>\n",
              "      <td>62320.000000</td>\n",
              "      <td>109.000000</td>\n",
              "      <td>23.000000</td>\n",
              "      <td>71.000000</td>\n",
              "      <td>0.000000</td>\n",
              "      <td>4.000000</td>\n",
              "      <td>547.514839</td>\n",
              "    </tr>\n",
              "    <tr>\n",
              "      <th>max</th>\n",
              "      <td>83325.381190</td>\n",
              "      <td>99981.000000</td>\n",
              "      <td>298.000000</td>\n",
              "      <td>35.000000</td>\n",
              "      <td>99.000000</td>\n",
              "      <td>5.000000</td>\n",
              "      <td>9.000000</td>\n",
              "      <td>2893.239678</td>\n",
              "    </tr>\n",
              "  </tbody>\n",
              "</table>\n",
              "</div>"
            ],
            "text/plain": [
              "                CLV        Income  ...  Number of Policies  Total Claim Amount\n",
              "count   9134.000000   9134.000000  ...         9134.000000         9134.000000\n",
              "mean    8004.940475  37657.380009  ...            2.966170          434.088794\n",
              "std     6870.967608  30379.904734  ...            2.390182          290.500092\n",
              "min     1898.007675      0.000000  ...            1.000000            0.099007\n",
              "25%     3994.251794      0.000000  ...            1.000000          272.258244\n",
              "50%     5780.182197  33889.500000  ...            2.000000          383.945434\n",
              "75%     8962.167041  62320.000000  ...            4.000000          547.514839\n",
              "max    83325.381190  99981.000000  ...            9.000000         2893.239678\n",
              "\n",
              "[8 rows x 8 columns]"
            ]
          },
          "metadata": {
            "tags": []
          },
          "execution_count": 13
        }
      ]
    },
    {
      "cell_type": "markdown",
      "metadata": {
        "id": "3aPQTCYocSKh"
      },
      "source": [
        "## EDA"
      ]
    },
    {
      "cell_type": "code",
      "metadata": {
        "colab": {
          "base_uri": "https://localhost:8080/",
          "height": 296
        },
        "id": "g0L1iem2VErP",
        "outputId": "9ae05bd9-3e0d-4381-8684-928a1934c759"
      },
      "source": [
        "sns.distplot(df['CLV'])"
      ],
      "execution_count": 15,
      "outputs": [
        {
          "output_type": "execute_result",
          "data": {
            "text/plain": [
              "<matplotlib.axes._subplots.AxesSubplot at 0x7fe4c9450bd0>"
            ]
          },
          "metadata": {
            "tags": []
          },
          "execution_count": 15
        },
        {
          "output_type": "display_data",
          "data": {
            "image/png": "[encoded data removed]",
            "text/plain": [
              "<Figure size 432x288 with 1 Axes>"
            ]
          },
          "metadata": {
            "tags": [],
            "needs_background": "light"
          }
        }
      ]
    },
    {
      "cell_type": "code",
      "metadata": {
        "colab": {
          "base_uri": "https://localhost:8080/",
          "height": 296
        },
        "id": "WdSYVU3zVEvP",
        "outputId": "1694d262-1b05-4fa4-b8f7-2296b50dd94f"
      },
      "source": [
        "sns.boxplot(df['CLV'])"
      ],
      "execution_count": 16,
      "outputs": [
        {
          "output_type": "execute_result",
          "data": {
            "text/plain": [
              "<matplotlib.axes._subplots.AxesSubplot at 0x7fe4c5c1cb50>"
            ]
          },
          "metadata": {
            "tags": []
          },
          "execution_count": 16
        },
        {
          "output_type": "display_data",
          "data": {
            "image/png": "[encoded data removed]",
            "text/plain": [
              "<Figure size 432x288 with 1 Axes>"
            ]
          },
          "metadata": {
            "tags": [],
            "needs_background": "light"
          }
        }
      ]
    },
    {
      "cell_type": "code",
      "metadata": {
        "colab": {
          "base_uri": "https://localhost:8080/"
        },
        "id": "uRueqy6FVE0U",
        "outputId": "3167f62e-2a65-43e8-bc0a-98b1f8d461d6"
      },
      "source": [
        "df['CLV'].skew()"
      ],
      "execution_count": 17,
      "outputs": [
        {
          "output_type": "execute_result",
          "data": {
            "text/plain": [
              "3.032280259929985"
            ]
          },
          "metadata": {
            "tags": []
          },
          "execution_count": 17
        }
      ]
    },
    {
      "cell_type": "markdown",
      "metadata": {
        "id": "V20_PES6cw9y"
      },
      "source": [
        "- From the above distribution plot and boxplot of CLV , we can say that CLV is highly right skewed, There are lot of outliers in dependent variables but we can treat them directly because they are influential points."
      ]
    },
    {
      "cell_type": "code",
      "metadata": {
        "colab": {
          "base_uri": "https://localhost:8080/",
          "height": 307
        },
        "id": "53HlVKOtVE4m",
        "outputId": "75ece35c-80ab-4597-af68-df8d14b8f264"
      },
      "source": [
        "sns.distplot(df['Income'])"
      ],
      "execution_count": 18,
      "outputs": [
        {
          "output_type": "execute_result",
          "data": {
            "text/plain": [
              "<matplotlib.axes._subplots.AxesSubplot at 0x7fe4c5b752d0>"
            ]
          },
          "metadata": {
            "tags": []
          },
          "execution_count": 18
        },
        {
          "output_type": "display_data",
          "data": {
            "image/png": "[encoded data removed]",
            "text/plain": [
              "<Figure size 432x288 with 1 Axes>"
            ]
          },
          "metadata": {
            "tags": [],
            "needs_background": "light"
          }
        }
      ]
    },
    {
      "cell_type": "code",
      "metadata": {
        "colab": {
          "base_uri": "https://localhost:8080/",
          "height": 296
        },
        "id": "gfB7foRQVE8f",
        "outputId": "0ab935da-6653-4442-c524-d915b5123fb0"
      },
      "source": [
        "sns.boxplot(df['Income'])"
      ],
      "execution_count": 19,
      "outputs": [
        {
          "output_type": "execute_result",
          "data": {
            "text/plain": [
              "<matplotlib.axes._subplots.AxesSubplot at 0x7fe4c5aa1990>"
            ]
          },
          "metadata": {
            "tags": []
          },
          "execution_count": 19
        },
        {
          "output_type": "display_data",
          "data": {
            "image/png": "[encoded data removed]",
            "text/plain": [
              "<Figure size 432x288 with 1 Axes>"
            ]
          },
          "metadata": {
            "tags": [],
            "needs_background": "light"
          }
        }
      ]
    },
    {
      "cell_type": "markdown",
      "metadata": {
        "id": "PQtTm8jtdjud"
      },
      "source": [
        "##### Bivariate Analysis"
      ]
    },
    {
      "cell_type": "code",
      "metadata": {
        "colab": {
          "base_uri": "https://localhost:8080/",
          "height": 296
        },
        "id": "Ec8NluZqVE_y",
        "outputId": "b655cf5e-b7d7-4a22-f0b4-b21855654e9f"
      },
      "source": [
        "sns.scatterplot(df['Income'], df['CLV'])"
      ],
      "execution_count": 20,
      "outputs": [
        {
          "output_type": "execute_result",
          "data": {
            "text/plain": [
              "<matplotlib.axes._subplots.AxesSubplot at 0x7fe4c5a8dfd0>"
            ]
          },
          "metadata": {
            "tags": []
          },
          "execution_count": 20
        },
        {
          "output_type": "display_data",
          "data": {
            "image/png": "[encoded data removed]",
            "text/plain": [
              "<Figure size 432x288 with 1 Axes>"
            ]
          },
          "metadata": {
            "tags": [],
            "needs_background": "light"
          }
        }
      ]
    },
    {
      "cell_type": "markdown",
      "metadata": {
        "id": "VWKx2lfPdrwE"
      },
      "source": [
        "- From the above plot we can say that there is no relationship between income and clv."
      ]
    },
    {
      "cell_type": "code",
      "metadata": {
        "colab": {
          "base_uri": "https://localhost:8080/",
          "height": 296
        },
        "id": "PJn8tk6iVFD8",
        "outputId": "c392ae24-be21-4226-9b88-c6ee210c0d91"
      },
      "source": [
        "sns.distplot(df['Monthly Premium Auto'])"
      ],
      "execution_count": 21,
      "outputs": [
        {
          "output_type": "execute_result",
          "data": {
            "text/plain": [
              "<matplotlib.axes._subplots.AxesSubplot at 0x7fe4c9462b50>"
            ]
          },
          "metadata": {
            "tags": []
          },
          "execution_count": 21
        },
        {
          "output_type": "display_data",
          "data": {
            "image/png": "[encoded data removed]",
            "text/plain": [
              "<Figure size 432x288 with 1 Axes>"
            ]
          },
          "metadata": {
            "tags": [],
            "needs_background": "light"
          }
        }
      ]
    },
    {
      "cell_type": "code",
      "metadata": {
        "colab": {
          "base_uri": "https://localhost:8080/",
          "height": 296
        },
        "id": "RYQu-u1oVFHn",
        "outputId": "3d0f7db1-e9ec-49a1-ba91-494c197fc151"
      },
      "source": [
        "sns.boxplot(df['Monthly Premium Auto'])"
      ],
      "execution_count": 22,
      "outputs": [
        {
          "output_type": "execute_result",
          "data": {
            "text/plain": [
              "<matplotlib.axes._subplots.AxesSubplot at 0x7fe4c5a5a910>"
            ]
          },
          "metadata": {
            "tags": []
          },
          "execution_count": 22
        },
        {
          "output_type": "display_data",
          "data": {
            "image/png": "[encoded data removed]",
            "text/plain": [
              "<Figure size 432x288 with 1 Axes>"
            ]
          },
          "metadata": {
            "tags": [],
            "needs_background": "light"
          }
        }
      ]
    },
    {
      "cell_type": "markdown",
      "metadata": {
        "id": "WUL_LPWheIgn"
      },
      "source": [
        "- From the boxplot and distplot we can say that there is lot of outliers in Monthly Premium Auto feature."
      ]
    },
    {
      "cell_type": "code",
      "metadata": {
        "colab": {
          "base_uri": "https://localhost:8080/",
          "height": 296
        },
        "id": "j16HVF6eVFLL",
        "outputId": "1bf53b29-ad86-449b-8572-8f44db520efb"
      },
      "source": [
        "sns.scatterplot(df['Monthly Premium Auto'], df['CLV'])"
      ],
      "execution_count": 23,
      "outputs": [
        {
          "output_type": "execute_result",
          "data": {
            "text/plain": [
              "<matplotlib.axes._subplots.AxesSubplot at 0x7fe4c594f3d0>"
            ]
          },
          "metadata": {
            "tags": []
          },
          "execution_count": 23
        },
        {
          "output_type": "display_data",
          "data": {
            "image/png": "[encoded data removed]",
            "text/plain": [
              "<Figure size 432x288 with 1 Axes>"
            ]
          },
          "metadata": {
            "tags": [],
            "needs_background": "light"
          }
        }
      ]
    },
    {
      "cell_type": "markdown",
      "metadata": {
        "id": "Nf1NohC4eV2i"
      },
      "source": [
        "- We can say that there is linear relationship between Monthly Premium Auto and CLV features"
      ]
    },
    {
      "cell_type": "code",
      "metadata": {
        "colab": {
          "base_uri": "https://localhost:8080/",
          "height": 296
        },
        "id": "JomJtPRYVFOZ",
        "outputId": "cfc8b3f6-4820-48d8-b2e4-92834cefcb6e"
      },
      "source": [
        "sns.distplot(df['Months Since Policy Inception'])"
      ],
      "execution_count": 24,
      "outputs": [
        {
          "output_type": "execute_result",
          "data": {
            "text/plain": [
              "<matplotlib.axes._subplots.AxesSubplot at 0x7fe4c589b750>"
            ]
          },
          "metadata": {
            "tags": []
          },
          "execution_count": 24
        },
        {
          "output_type": "display_data",
          "data": {
            "image/png": "[encoded data removed]",
            "text/plain": [
              "<Figure size 432x288 with 1 Axes>"
            ]
          },
          "metadata": {
            "tags": [],
            "needs_background": "light"
          }
        }
      ]
    },
    {
      "cell_type": "code",
      "metadata": {
        "colab": {
          "base_uri": "https://localhost:8080/",
          "height": 296
        },
        "id": "tC74ZcHaVFTl",
        "outputId": "dc1221ed-f0a3-466a-c594-664554ab0579"
      },
      "source": [
        "sns.scatterplot(df['Months Since Policy Inception'], df['CLV'])"
      ],
      "execution_count": 25,
      "outputs": [
        {
          "output_type": "execute_result",
          "data": {
            "text/plain": [
              "<matplotlib.axes._subplots.AxesSubplot at 0x7fe4c589c5d0>"
            ]
          },
          "metadata": {
            "tags": []
          },
          "execution_count": 25
        },
        {
          "output_type": "display_data",
          "data": {
            "image/png": "[encoded data removed]",
            "text/plain": [
              "<Figure size 432x288 with 1 Axes>"
            ]
          },
          "metadata": {
            "tags": [],
            "needs_background": "light"
          }
        }
      ]
    },
    {
      "cell_type": "code",
      "metadata": {
        "colab": {
          "base_uri": "https://localhost:8080/",
          "height": 296
        },
        "id": "GF5LZcKzVFXl",
        "outputId": "c28ef31a-c17d-46e1-e922-6cc90ed2b63b"
      },
      "source": [
        "sns.distplot(df['Total Claim Amount'])"
      ],
      "execution_count": 26,
      "outputs": [
        {
          "output_type": "execute_result",
          "data": {
            "text/plain": [
              "<matplotlib.axes._subplots.AxesSubplot at 0x7fe4c57530d0>"
            ]
          },
          "metadata": {
            "tags": []
          },
          "execution_count": 26
        },
        {
          "output_type": "display_data",
          "data": {
            "image/png": "[encoded data removed]",
            "text/plain": [
              "<Figure size 432x288 with 1 Axes>"
            ]
          },
          "metadata": {
            "tags": [],
            "needs_background": "light"
          }
        }
      ]
    },
    {
      "cell_type": "code",
      "metadata": {
        "colab": {
          "base_uri": "https://localhost:8080/",
          "height": 296
        },
        "id": "ehjnCiCcVFcd",
        "outputId": "6496026a-7548-47ac-bf5e-35aaa0ac9462"
      },
      "source": [
        "sns.boxplot(df['Total Claim Amount'])"
      ],
      "execution_count": 27,
      "outputs": [
        {
          "output_type": "execute_result",
          "data": {
            "text/plain": [
              "<matplotlib.axes._subplots.AxesSubplot at 0x7fe4c565b3d0>"
            ]
          },
          "metadata": {
            "tags": []
          },
          "execution_count": 27
        },
        {
          "output_type": "display_data",
          "data": {
            "image/png": "[encoded data removed]",
            "text/plain": [
              "<Figure size 432x288 with 1 Axes>"
            ]
          },
          "metadata": {
            "tags": [],
            "needs_background": "light"
          }
        }
      ]
    },
    {
      "cell_type": "code",
      "metadata": {
        "colab": {
          "base_uri": "https://localhost:8080/",
          "height": 296
        },
        "id": "jaV1TWp3VFhD",
        "outputId": "36466592-4032-463d-b113-a49e4edc3bce"
      },
      "source": [
        "sns.scatterplot(df['Total Claim Amount'], df['CLV'])"
      ],
      "execution_count": 28,
      "outputs": [
        {
          "output_type": "execute_result",
          "data": {
            "text/plain": [
              "<matplotlib.axes._subplots.AxesSubplot at 0x7fe4c55c9e10>"
            ]
          },
          "metadata": {
            "tags": []
          },
          "execution_count": 28
        },
        {
          "output_type": "display_data",
          "data": {
            "image/png": "[encoded data removed]",
            "text/plain": [
              "<Figure size 432x288 with 1 Axes>"
            ]
          },
          "metadata": {
            "tags": [],
            "needs_background": "light"
          }
        }
      ]
    },
    {
      "cell_type": "markdown",
      "metadata": {
        "id": "yLRVHh1Sf2NN"
      },
      "source": [
        " - From the above plot we can say that there is relationship between Total Claim Amount and CLV."
      ]
    },
    {
      "cell_type": "code",
      "metadata": {
        "id": "Uiy_PFRlVFmZ"
      },
      "source": [
        "#create categorical variables\n",
        "categorical_cols = df.select_dtypes(include= 'object')"
      ],
      "execution_count": 29,
      "outputs": []
    },
    {
      "cell_type": "code",
      "metadata": {
        "id": "JFB6Dew2VFqh"
      },
      "source": [
        "no_cols = df[['Number of Open Complaints', 'Number of Policies']]"
      ],
      "execution_count": 30,
      "outputs": []
    },
    {
      "cell_type": "code",
      "metadata": {
        "id": "3LxOdU4mVFwH"
      },
      "source": [
        "cat_cols = pd.concat([categorical_cols, no_cols], axis = 1)"
      ],
      "execution_count": 31,
      "outputs": []
    },
    {
      "cell_type": "code",
      "metadata": {
        "colab": {
          "base_uri": "https://localhost:8080/",
          "height": 411
        },
        "id": "VFsyh9BsVF0J",
        "outputId": "e40eb3be-03f7-4aaf-f7bf-9fa6199b2283"
      },
      "source": [
        "cat_cols.head()"
      ],
      "execution_count": 32,
      "outputs": [
        {
          "output_type": "execute_result",
          "data": {
            "text/html": [
              "<div>\n",
              "<style scoped>\n",
              "    .dataframe tbody tr th:only-of-type {\n",
              "        vertical-align: middle;\n",
              "    }\n",
              "\n",
              "    .dataframe tbody tr th {\n",
              "        vertical-align: top;\n",
              "    }\n",
              "\n",
              "    .dataframe thead th {\n",
              "        text-align: right;\n",
              "    }\n",
              "</style>\n",
              "<table border=\"1\" class=\"dataframe\">\n",
              "  <thead>\n",
              "    <tr style=\"text-align: right;\">\n",
              "      <th></th>\n",
              "      <th>Customer</th>\n",
              "      <th>State</th>\n",
              "      <th>Response</th>\n",
              "      <th>Coverage</th>\n",
              "      <th>Education</th>\n",
              "      <th>Effective To Date</th>\n",
              "      <th>EmploymentStatus</th>\n",
              "      <th>Gender</th>\n",
              "      <th>Location Code</th>\n",
              "      <th>Marital Status</th>\n",
              "      <th>Policy Type</th>\n",
              "      <th>Policy</th>\n",
              "      <th>Renew Offer Type</th>\n",
              "      <th>Sales Channel</th>\n",
              "      <th>Vehicle Class</th>\n",
              "      <th>Vehicle Size</th>\n",
              "      <th>Number of Open Complaints</th>\n",
              "      <th>Number of Policies</th>\n",
              "    </tr>\n",
              "  </thead>\n",
              "  <tbody>\n",
              "    <tr>\n",
              "      <th>0</th>\n",
              "      <td>BU79786</td>\n",
              "      <td>Washington</td>\n",
              "      <td>No</td>\n",
              "      <td>Basic</td>\n",
              "      <td>Bachelor</td>\n",
              "      <td>2/24/11</td>\n",
              "      <td>Employed</td>\n",
              "      <td>F</td>\n",
              "      <td>Suburban</td>\n",
              "      <td>Married</td>\n",
              "      <td>Corporate Auto</td>\n",
              "      <td>Corporate L3</td>\n",
              "      <td>Offer1</td>\n",
              "      <td>Agent</td>\n",
              "      <td>Two-Door Car</td>\n",
              "      <td>Medsize</td>\n",
              "      <td>0</td>\n",
              "      <td>1</td>\n",
              "    </tr>\n",
              "    <tr>\n",
              "      <th>1</th>\n",
              "      <td>QZ44356</td>\n",
              "      <td>Arizona</td>\n",
              "      <td>No</td>\n",
              "      <td>Extended</td>\n",
              "      <td>Bachelor</td>\n",
              "      <td>1/31/11</td>\n",
              "      <td>Unemployed</td>\n",
              "      <td>F</td>\n",
              "      <td>Suburban</td>\n",
              "      <td>Single</td>\n",
              "      <td>Personal Auto</td>\n",
              "      <td>Personal L3</td>\n",
              "      <td>Offer3</td>\n",
              "      <td>Agent</td>\n",
              "      <td>Four-Door Car</td>\n",
              "      <td>Medsize</td>\n",
              "      <td>0</td>\n",
              "      <td>8</td>\n",
              "    </tr>\n",
              "    <tr>\n",
              "      <th>2</th>\n",
              "      <td>AI49188</td>\n",
              "      <td>Nevada</td>\n",
              "      <td>No</td>\n",
              "      <td>Premium</td>\n",
              "      <td>Bachelor</td>\n",
              "      <td>2/19/11</td>\n",
              "      <td>Employed</td>\n",
              "      <td>F</td>\n",
              "      <td>Suburban</td>\n",
              "      <td>Married</td>\n",
              "      <td>Personal Auto</td>\n",
              "      <td>Personal L3</td>\n",
              "      <td>Offer1</td>\n",
              "      <td>Agent</td>\n",
              "      <td>Two-Door Car</td>\n",
              "      <td>Medsize</td>\n",
              "      <td>0</td>\n",
              "      <td>2</td>\n",
              "    </tr>\n",
              "    <tr>\n",
              "      <th>3</th>\n",
              "      <td>WW63253</td>\n",
              "      <td>California</td>\n",
              "      <td>No</td>\n",
              "      <td>Basic</td>\n",
              "      <td>Bachelor</td>\n",
              "      <td>1/20/11</td>\n",
              "      <td>Unemployed</td>\n",
              "      <td>M</td>\n",
              "      <td>Suburban</td>\n",
              "      <td>Married</td>\n",
              "      <td>Corporate Auto</td>\n",
              "      <td>Corporate L2</td>\n",
              "      <td>Offer1</td>\n",
              "      <td>Call Center</td>\n",
              "      <td>SUV</td>\n",
              "      <td>Medsize</td>\n",
              "      <td>0</td>\n",
              "      <td>7</td>\n",
              "    </tr>\n",
              "    <tr>\n",
              "      <th>4</th>\n",
              "      <td>HB64268</td>\n",
              "      <td>Washington</td>\n",
              "      <td>No</td>\n",
              "      <td>Basic</td>\n",
              "      <td>Bachelor</td>\n",
              "      <td>3/2/2011</td>\n",
              "      <td>Employed</td>\n",
              "      <td>M</td>\n",
              "      <td>Rural</td>\n",
              "      <td>Single</td>\n",
              "      <td>Personal Auto</td>\n",
              "      <td>Personal L1</td>\n",
              "      <td>Offer1</td>\n",
              "      <td>Agent</td>\n",
              "      <td>Four-Door Car</td>\n",
              "      <td>Medsize</td>\n",
              "      <td>0</td>\n",
              "      <td>1</td>\n",
              "    </tr>\n",
              "  </tbody>\n",
              "</table>\n",
              "</div>"
            ],
            "text/plain": [
              "  Customer       State  ... Number of Open Complaints Number of Policies\n",
              "0  BU79786  Washington  ...                         0                  1\n",
              "1  QZ44356     Arizona  ...                         0                  8\n",
              "2  AI49188      Nevada  ...                         0                  2\n",
              "3  WW63253  California  ...                         0                  7\n",
              "4  HB64268  Washington  ...                         0                  1\n",
              "\n",
              "[5 rows x 18 columns]"
            ]
          },
          "metadata": {
            "tags": []
          },
          "execution_count": 32
        }
      ]
    },
    {
      "cell_type": "code",
      "metadata": {
        "colab": {
          "base_uri": "https://localhost:8080/"
        },
        "id": "TtmV7DKohgWM",
        "outputId": "94e8216c-c455-4584-9640-94ac78d1229f"
      },
      "source": [
        "cat_cols.columns"
      ],
      "execution_count": 33,
      "outputs": [
        {
          "output_type": "execute_result",
          "data": {
            "text/plain": [
              "Index(['Customer', 'State', 'Response', 'Coverage', 'Education',\n",
              "       'Effective To Date', 'EmploymentStatus', 'Gender', 'Location Code',\n",
              "       'Marital Status', 'Policy Type', 'Policy', 'Renew Offer Type',\n",
              "       'Sales Channel', 'Vehicle Class', 'Vehicle Size',\n",
              "       'Number of Open Complaints', 'Number of Policies'],\n",
              "      dtype='object')"
            ]
          },
          "metadata": {
            "tags": []
          },
          "execution_count": 33
        }
      ]
    },
    {
      "cell_type": "code",
      "metadata": {
        "id": "uiWdQcMGhVNf"
      },
      "source": [
        "cat_cols.drop(\"Effective To Date\", axis = 1, inplace = True)"
      ],
      "execution_count": 34,
      "outputs": []
    },
    {
      "cell_type": "code",
      "metadata": {
        "colab": {
          "base_uri": "https://localhost:8080/"
        },
        "id": "xvZdqaVdhVsB",
        "outputId": "e8f712eb-d616-444a-9bfe-f918a5c854c5"
      },
      "source": [
        "#Checking unique values in columns\n",
        "for i in cat_cols:\n",
        "  print(\"Unique values in\",str(i),\"is\",df[i].nunique())\n",
        "  print(df[i].value_counts())\n",
        "  print(\"-----------------------------------------\")"
      ],
      "execution_count": 35,
      "outputs": [
        {
          "output_type": "stream",
          "text": [
            "Unique values in Customer is 9134\n",
            "SC43870    1\n",
            "SI48717    1\n",
            "SI88726    1\n",
            "MY60905    1\n",
            "TN79733    1\n",
            "          ..\n",
            "CS93971    1\n",
            "DZ35379    1\n",
            "PB60303    1\n",
            "WG33213    1\n",
            "XZ34917    1\n",
            "Name: Customer, Length: 9134, dtype: int64\n",
            "-----------------------------------------\n",
            "Unique values in State is 5\n",
            "California    3150\n",
            "Oregon        2601\n",
            "Arizona       1703\n",
            "Nevada         882\n",
            "Washington     798\n",
            "Name: State, dtype: int64\n",
            "-----------------------------------------\n",
            "Unique values in Response is 2\n",
            "No     7826\n",
            "Yes    1308\n",
            "Name: Response, dtype: int64\n",
            "-----------------------------------------\n",
            "Unique values in Coverage is 3\n",
            "Basic       5568\n",
            "Extended    2742\n",
            "Premium      824\n",
            "Name: Coverage, dtype: int64\n",
            "-----------------------------------------\n",
            "Unique values in Education is 5\n",
            "Bachelor                2748\n",
            "College                 2681\n",
            "High School or Below    2622\n",
            "Master                   741\n",
            "Doctor                   342\n",
            "Name: Education, dtype: int64\n",
            "-----------------------------------------\n",
            "Unique values in EmploymentStatus is 5\n",
            "Employed         5698\n",
            "Unemployed       2317\n",
            "Medical Leave     432\n",
            "Disabled          405\n",
            "Retired           282\n",
            "Name: EmploymentStatus, dtype: int64\n",
            "-----------------------------------------\n",
            "Unique values in Gender is 2\n",
            "F    4658\n",
            "M    4476\n",
            "Name: Gender, dtype: int64\n",
            "-----------------------------------------\n",
            "Unique values in Location Code is 3\n",
            "Suburban    5779\n",
            "Rural       1773\n",
            "Urban       1582\n",
            "Name: Location Code, dtype: int64\n",
            "-----------------------------------------\n",
            "Unique values in Marital Status is 3\n",
            "Married     5298\n",
            "Single      2467\n",
            "Divorced    1369\n",
            "Name: Marital Status, dtype: int64\n",
            "-----------------------------------------\n",
            "Unique values in Policy Type is 3\n",
            "Personal Auto     6788\n",
            "Corporate Auto    1968\n",
            "Special Auto       378\n",
            "Name: Policy Type, dtype: int64\n",
            "-----------------------------------------\n",
            "Unique values in Policy is 9\n",
            "Personal L3     3426\n",
            "Personal L2     2122\n",
            "Personal L1     1240\n",
            "Corporate L3    1014\n",
            "Corporate L2     595\n",
            "Corporate L1     359\n",
            "Special L2       164\n",
            "Special L3       148\n",
            "Special L1        66\n",
            "Name: Policy, dtype: int64\n",
            "-----------------------------------------\n",
            "Unique values in Renew Offer Type is 4\n",
            "Offer1    3752\n",
            "Offer2    2926\n",
            "Offer3    1432\n",
            "Offer4    1024\n",
            "Name: Renew Offer Type, dtype: int64\n",
            "-----------------------------------------\n",
            "Unique values in Sales Channel is 4\n",
            "Agent          3477\n",
            "Branch         2567\n",
            "Call Center    1765\n",
            "Web            1325\n",
            "Name: Sales Channel, dtype: int64\n",
            "-----------------------------------------\n",
            "Unique values in Vehicle Class is 6\n",
            "Four-Door Car    4621\n",
            "Two-Door Car     1886\n",
            "SUV              1796\n",
            "Sports Car        484\n",
            "Luxury SUV        184\n",
            "Luxury Car        163\n",
            "Name: Vehicle Class, dtype: int64\n",
            "-----------------------------------------\n",
            "Unique values in Vehicle Size is 3\n",
            "Medsize    6424\n",
            "Small      1764\n",
            "Large       946\n",
            "Name: Vehicle Size, dtype: int64\n",
            "-----------------------------------------\n",
            "Unique values in Number of Open Complaints is 6\n",
            "0    7252\n",
            "1    1011\n",
            "2     374\n",
            "3     292\n",
            "4     149\n",
            "5      56\n",
            "Name: Number of Open Complaints, dtype: int64\n",
            "-----------------------------------------\n",
            "Unique values in Number of Policies is 9\n",
            "1    3251\n",
            "2    2294\n",
            "3    1168\n",
            "7     433\n",
            "9     416\n",
            "4     409\n",
            "5     407\n",
            "8     384\n",
            "6     372\n",
            "Name: Number of Policies, dtype: int64\n",
            "-----------------------------------------\n"
          ],
          "name": "stdout"
        }
      ]
    },
    {
      "cell_type": "code",
      "metadata": {
        "colab": {
          "base_uri": "https://localhost:8080/",
          "height": 296
        },
        "id": "4sqX3smhhVxH",
        "outputId": "fb68b9e5-500f-4219-a31d-777c5448c2bd"
      },
      "source": [
        "sns.countplot(df['State'])"
      ],
      "execution_count": 36,
      "outputs": [
        {
          "output_type": "execute_result",
          "data": {
            "text/plain": [
              "<matplotlib.axes._subplots.AxesSubplot at 0x7fe4c53989d0>"
            ]
          },
          "metadata": {
            "tags": []
          },
          "execution_count": 36
        },
        {
          "output_type": "display_data",
          "data": {
            "image/png": "[encoded data removed]",
            "text/plain": [
              "<Figure size 432x288 with 1 Axes>"
            ]
          },
          "metadata": {
            "tags": [],
            "needs_background": "light"
          }
        }
      ]
    },
    {
      "cell_type": "markdown",
      "metadata": {
        "id": "pJeS8RPniN-E"
      },
      "source": [
        " - Most number of people are residing in california."
      ]
    },
    {
      "cell_type": "code",
      "metadata": {
        "colab": {
          "base_uri": "https://localhost:8080/",
          "height": 296
        },
        "id": "-3rMaLpUhV1i",
        "outputId": "47d399c9-c7f1-4a42-a249-97569a88547c"
      },
      "source": [
        "sns.countplot(df['Response'])"
      ],
      "execution_count": 37,
      "outputs": [
        {
          "output_type": "execute_result",
          "data": {
            "text/plain": [
              "<matplotlib.axes._subplots.AxesSubplot at 0x7fe4c94817d0>"
            ]
          },
          "metadata": {
            "tags": []
          },
          "execution_count": 37
        },
        {
          "output_type": "display_data",
          "data": {
            "image/png": "[encoded data removed]",
            "text/plain": [
              "<Figure size 432x288 with 1 Axes>"
            ]
          },
          "metadata": {
            "tags": [],
            "needs_background": "light"
          }
        }
      ]
    },
    {
      "cell_type": "markdown",
      "metadata": {
        "id": "3BS3VxFDid3n"
      },
      "source": [
        "- Its seems that less than 1400 customers have responded to the marketing calls"
      ]
    },
    {
      "cell_type": "code",
      "metadata": {
        "colab": {
          "base_uri": "https://localhost:8080/",
          "height": 296
        },
        "id": "PQ3Aa-PGhV7A",
        "outputId": "303f398a-b583-4134-b400-ce984f5c54df"
      },
      "source": [
        "sns.countplot(df['Coverage'])"
      ],
      "execution_count": 38,
      "outputs": [
        {
          "output_type": "execute_result",
          "data": {
            "text/plain": [
              "<matplotlib.axes._subplots.AxesSubplot at 0x7fe4c561fc50>"
            ]
          },
          "metadata": {
            "tags": []
          },
          "execution_count": 38
        },
        {
          "output_type": "display_data",
          "data": {
            "image/png": "[encoded data removed]",
            "text/plain": [
              "<Figure size 432x288 with 1 Axes>"
            ]
          },
          "metadata": {
            "tags": [],
            "needs_background": "light"
          }
        }
      ]
    },
    {
      "cell_type": "code",
      "metadata": {
        "colab": {
          "base_uri": "https://localhost:8080/",
          "height": 296
        },
        "id": "rJfnFUXqhV_X",
        "outputId": "c74c2f8d-be84-4f36-e8f2-9847e2d7d457"
      },
      "source": [
        "sns.countplot(df['Education'])"
      ],
      "execution_count": 39,
      "outputs": [
        {
          "output_type": "execute_result",
          "data": {
            "text/plain": [
              "<matplotlib.axes._subplots.AxesSubplot at 0x7fe4c5822e10>"
            ]
          },
          "metadata": {
            "tags": []
          },
          "execution_count": 39
        },
        {
          "output_type": "display_data",
          "data": {
            "image/png": "[encoded data removed]",
            "text/plain": [
              "<Figure size 432x288 with 1 Axes>"
            ]
          },
          "metadata": {
            "tags": [],
            "needs_background": "light"
          }
        }
      ]
    },
    {
      "cell_type": "markdown",
      "metadata": {
        "id": "IUDo6mV0i7jx"
      },
      "source": [
        "- From the above plot we can say that Most of the customers have either a bachelor or college degree"
      ]
    },
    {
      "cell_type": "code",
      "metadata": {
        "colab": {
          "base_uri": "https://localhost:8080/",
          "height": 296
        },
        "id": "7Vqh4_qQhWEq",
        "outputId": "853528f1-4327-45e5-8ca3-f1e967d05047"
      },
      "source": [
        "sns.countplot(df['EmploymentStatus'])"
      ],
      "execution_count": 41,
      "outputs": [
        {
          "output_type": "execute_result",
          "data": {
            "text/plain": [
              "<matplotlib.axes._subplots.AxesSubplot at 0x7fe4c5163150>"
            ]
          },
          "metadata": {
            "tags": []
          },
          "execution_count": 41
        },
        {
          "output_type": "display_data",
          "data": {
            "image/png": "[encoded data removed]",
            "text/plain": [
              "<Figure size 432x288 with 1 Axes>"
            ]
          },
          "metadata": {
            "tags": [],
            "needs_background": "light"
          }
        }
      ]
    },
    {
      "cell_type": "markdown",
      "metadata": {
        "id": "ab3WNwgKkxHC"
      },
      "source": [
        "- More number of customers are employed."
      ]
    },
    {
      "cell_type": "code",
      "metadata": {
        "colab": {
          "base_uri": "https://localhost:8080/",
          "height": 296
        },
        "id": "Vb1eF5gThWJ3",
        "outputId": "cfe8423b-b2f6-4945-c305-c23531c23068"
      },
      "source": [
        "sns.countplot(df['Gender'])"
      ],
      "execution_count": 42,
      "outputs": [
        {
          "output_type": "execute_result",
          "data": {
            "text/plain": [
              "<matplotlib.axes._subplots.AxesSubplot at 0x7fe4c5154c50>"
            ]
          },
          "metadata": {
            "tags": []
          },
          "execution_count": 42
        },
        {
          "output_type": "display_data",
          "data": {
            "image/png": "[encoded data removed]",
            "text/plain": [
              "<Figure size 432x288 with 1 Axes>"
            ]
          },
          "metadata": {
            "tags": [],
            "needs_background": "light"
          }
        }
      ]
    },
    {
      "cell_type": "code",
      "metadata": {
        "colab": {
          "base_uri": "https://localhost:8080/",
          "height": 298
        },
        "id": "RypRoGgphWRK",
        "outputId": "0c545202-ea0f-4a5c-cf5e-efb8008325a6"
      },
      "source": [
        "sns.countplot(df['Location Code'])"
      ],
      "execution_count": 43,
      "outputs": [
        {
          "output_type": "execute_result",
          "data": {
            "text/plain": [
              "<matplotlib.axes._subplots.AxesSubplot at 0x7fe4c516a3d0>"
            ]
          },
          "metadata": {
            "tags": []
          },
          "execution_count": 43
        },
        {
          "output_type": "display_data",
          "data": {
            "image/png": "[encoded data removed]",
            "text/plain": [
              "<Figure size 432x288 with 1 Axes>"
            ]
          },
          "metadata": {
            "tags": [],
            "needs_background": "light"
          }
        }
      ]
    },
    {
      "cell_type": "code",
      "metadata": {
        "colab": {
          "base_uri": "https://localhost:8080/",
          "height": 296
        },
        "id": "Gbjbi8UAhWWc",
        "outputId": "96dd4f85-cb69-4403-f299-cb32b6b56901"
      },
      "source": [
        "sns.countplot(df['Marital Status'])"
      ],
      "execution_count": 44,
      "outputs": [
        {
          "output_type": "execute_result",
          "data": {
            "text/plain": [
              "<matplotlib.axes._subplots.AxesSubplot at 0x7fe4c5543f50>"
            ]
          },
          "metadata": {
            "tags": []
          },
          "execution_count": 44
        },
        {
          "output_type": "display_data",
          "data": {
            "image/png": "[encoded data removed]",
            "text/plain": [
              "<Figure size 432x288 with 1 Axes>"
            ]
          },
          "metadata": {
            "tags": [],
            "needs_background": "light"
          }
        }
      ]
    },
    {
      "cell_type": "markdown",
      "metadata": {
        "id": "8duJ9cFIn9dY"
      },
      "source": [
        "- From the above plot we can say that more number of peoples are married."
      ]
    },
    {
      "cell_type": "code",
      "metadata": {
        "colab": {
          "base_uri": "https://localhost:8080/",
          "height": 296
        },
        "id": "4GJe3TSvhWdm",
        "outputId": "5c65a6be-8101-4d62-844b-64d737e38704"
      },
      "source": [
        "sns.barplot(df['Marital Status'], df['CLV'])"
      ],
      "execution_count": 45,
      "outputs": [
        {
          "output_type": "execute_result",
          "data": {
            "text/plain": [
              "<matplotlib.axes._subplots.AxesSubplot at 0x7fe4c5000890>"
            ]
          },
          "metadata": {
            "tags": []
          },
          "execution_count": 45
        },
        {
          "output_type": "display_data",
          "data": {
            "image/png": "[encoded data removed]",
            "text/plain": [
              "<Figure size 432x288 with 1 Axes>"
            ]
          },
          "metadata": {
            "tags": [],
            "needs_background": "light"
          }
        }
      ]
    },
    {
      "cell_type": "code",
      "metadata": {
        "colab": {
          "base_uri": "https://localhost:8080/",
          "height": 296
        },
        "id": "j3Cp_B0ShWkU",
        "outputId": "615b8fdb-9fd1-4603-ad19-123edac84879"
      },
      "source": [
        "sns.countplot(df['Policy Type'])"
      ],
      "execution_count": 46,
      "outputs": [
        {
          "output_type": "execute_result",
          "data": {
            "text/plain": [
              "<matplotlib.axes._subplots.AxesSubplot at 0x7fe4c5010910>"
            ]
          },
          "metadata": {
            "tags": []
          },
          "execution_count": 46
        },
        {
          "output_type": "display_data",
          "data": {
            "image/png": "[encoded data removed]",
            "text/plain": [
              "<Figure size 432x288 with 1 Axes>"
            ]
          },
          "metadata": {
            "tags": [],
            "needs_background": "light"
          }
        }
      ]
    },
    {
      "cell_type": "markdown",
      "metadata": {
        "id": "mrOFxK7-oXyH"
      },
      "source": [
        " - We can observe that personal auto policy type are more in number.\n",
        " "
      ]
    },
    {
      "cell_type": "code",
      "metadata": {
        "colab": {
          "base_uri": "https://localhost:8080/",
          "height": 351
        },
        "id": "TGTbMXaShWsc",
        "outputId": "3f9eb31a-5f12-4262-a5c6-7e4056955577"
      },
      "source": [
        "plt.figure(figsize=(15,5))\n",
        "sns.countplot(df['Policy'])"
      ],
      "execution_count": 48,
      "outputs": [
        {
          "output_type": "execute_result",
          "data": {
            "text/plain": [
              "<matplotlib.axes._subplots.AxesSubplot at 0x7fe4c4e74050>"
            ]
          },
          "metadata": {
            "tags": []
          },
          "execution_count": 48
        },
        {
          "output_type": "display_data",
          "data": {
            "image/png": "[encoded data removed]",
            "text/plain": [
              "<Figure size 1080x360 with 1 Axes>"
            ]
          },
          "metadata": {
            "tags": [],
            "needs_background": "light"
          }
        }
      ]
    },
    {
      "cell_type": "markdown",
      "metadata": {
        "id": "y3pljq4ZloYm"
      },
      "source": [
        "- Personal L3 policy subcategory has the most number of customers"
      ]
    },
    {
      "cell_type": "code",
      "metadata": {
        "colab": {
          "base_uri": "https://localhost:8080/",
          "height": 296
        },
        "id": "xfUBSu9GhWwk",
        "outputId": "e285b95e-1e4b-47e2-8027-c0399fc24d0d"
      },
      "source": [
        "sns.countplot(df['Renew Offer Type'])"
      ],
      "execution_count": 49,
      "outputs": [
        {
          "output_type": "execute_result",
          "data": {
            "text/plain": [
              "<matplotlib.axes._subplots.AxesSubplot at 0x7fe4c4ab1110>"
            ]
          },
          "metadata": {
            "tags": []
          },
          "execution_count": 49
        },
        {
          "output_type": "display_data",
          "data": {
            "image/png": "[encoded data removed]",
            "text/plain": [
              "<Figure size 432x288 with 1 Axes>"
            ]
          },
          "metadata": {
            "tags": [],
            "needs_background": "light"
          }
        }
      ]
    },
    {
      "cell_type": "code",
      "metadata": {
        "colab": {
          "base_uri": "https://localhost:8080/",
          "height": 296
        },
        "id": "ZLtZHF4vhW1s",
        "outputId": "6004c987-fdbb-4c58-a05b-b9df903c8a1f"
      },
      "source": [
        "sns.countplot(df['Sales Channel'])"
      ],
      "execution_count": 50,
      "outputs": [
        {
          "output_type": "execute_result",
          "data": {
            "text/plain": [
              "<matplotlib.axes._subplots.AxesSubplot at 0x7fe4c4a28b90>"
            ]
          },
          "metadata": {
            "tags": []
          },
          "execution_count": 50
        },
        {
          "output_type": "display_data",
          "data": {
            "image/png": "[encoded data removed]",
            "text/plain": [
              "<Figure size 432x288 with 1 Axes>"
            ]
          },
          "metadata": {
            "tags": [],
            "needs_background": "light"
          }
        }
      ]
    },
    {
      "cell_type": "code",
      "metadata": {
        "colab": {
          "base_uri": "https://localhost:8080/",
          "height": 296
        },
        "id": "-0vdhbAYlxwY",
        "outputId": "a8696a9f-ac43-4ba0-ac8b-899faf72af65"
      },
      "source": [
        "sns.countplot(df['Vehicle Class'])"
      ],
      "execution_count": 51,
      "outputs": [
        {
          "output_type": "execute_result",
          "data": {
            "text/plain": [
              "<matplotlib.axes._subplots.AxesSubplot at 0x7fe4c49fc950>"
            ]
          },
          "metadata": {
            "tags": []
          },
          "execution_count": 51
        },
        {
          "output_type": "display_data",
          "data": {
            "image/png": "[encoded data removed]",
            "text/plain": [
              "<Figure size 432x288 with 1 Axes>"
            ]
          },
          "metadata": {
            "tags": [],
            "needs_background": "light"
          }
        }
      ]
    },
    {
      "cell_type": "code",
      "metadata": {
        "colab": {
          "base_uri": "https://localhost:8080/",
          "height": 296
        },
        "id": "ROVrOVEPl3hi",
        "outputId": "70ed50db-ab3e-420e-fdad-9805b2da0ebb"
      },
      "source": [
        "sns.countplot(df['Vehicle Size'])"
      ],
      "execution_count": 52,
      "outputs": [
        {
          "output_type": "execute_result",
          "data": {
            "text/plain": [
              "<matplotlib.axes._subplots.AxesSubplot at 0x7fe4c498d150>"
            ]
          },
          "metadata": {
            "tags": []
          },
          "execution_count": 52
        },
        {
          "output_type": "display_data",
          "data": {
            "image/png": "[encoded data removed]",
            "text/plain": [
              "<Figure size 432x288 with 1 Axes>"
            ]
          },
          "metadata": {
            "tags": [],
            "needs_background": "light"
          }
        }
      ]
    },
    {
      "cell_type": "code",
      "metadata": {
        "colab": {
          "base_uri": "https://localhost:8080/",
          "height": 296
        },
        "id": "6rlItiiol6wb",
        "outputId": "300ba23a-5ee9-4a66-ce31-4725b74a1e34"
      },
      "source": [
        "sns.countplot(df['Number of Open Complaints'])"
      ],
      "execution_count": 53,
      "outputs": [
        {
          "output_type": "execute_result",
          "data": {
            "text/plain": [
              "<matplotlib.axes._subplots.AxesSubplot at 0x7fe4c54dd0d0>"
            ]
          },
          "metadata": {
            "tags": []
          },
          "execution_count": 53
        },
        {
          "output_type": "display_data",
          "data": {
            "image/png": "[encoded data removed]",
            "text/plain": [
              "<Figure size 432x288 with 1 Axes>"
            ]
          },
          "metadata": {
            "tags": [],
            "needs_background": "light"
          }
        }
      ]
    },
    {
      "cell_type": "code",
      "metadata": {
        "colab": {
          "base_uri": "https://localhost:8080/",
          "height": 351
        },
        "id": "v1-4flVzl91K",
        "outputId": "ec7c7bd1-4fd7-40dd-8f96-6f41847373ac"
      },
      "source": [
        "plt.figure(figsize = (15,5))\n",
        "sns.countplot(df['Number of Policies'])"
      ],
      "execution_count": 54,
      "outputs": [
        {
          "output_type": "execute_result",
          "data": {
            "text/plain": [
              "<matplotlib.axes._subplots.AxesSubplot at 0x7fe4c4fe4a50>"
            ]
          },
          "metadata": {
            "tags": []
          },
          "execution_count": 54
        },
        {
          "output_type": "display_data",
          "data": {
            "image/png": "[encoded data removed]",
            "text/plain": [
              "<Figure size 1080x360 with 1 Axes>"
            ]
          },
          "metadata": {
            "tags": [],
            "needs_background": "light"
          }
        }
      ]
    },
    {
      "cell_type": "code",
      "metadata": {
        "id": "ttm22sXCmDdl"
      },
      "source": [
        "df['Effective To Date'] = pd.to_datetime(df['Effective To Date'], infer_datetime_format= True)"
      ],
      "execution_count": 55,
      "outputs": []
    },
    {
      "cell_type": "code",
      "metadata": {
        "id": "W6Vfp2a7mZhX"
      },
      "source": [
        "df['Months'] = df['Effective To Date'].dt.month"
      ],
      "execution_count": 56,
      "outputs": []
    },
    {
      "cell_type": "code",
      "metadata": {
        "id": "IRgbDOYJmZkp"
      },
      "source": [
        "df['Months'] = df['Months'].astype('object')"
      ],
      "execution_count": 57,
      "outputs": []
    },
    {
      "cell_type": "code",
      "metadata": {
        "colab": {
          "base_uri": "https://localhost:8080/",
          "height": 353
        },
        "id": "z_LRsMqWmZpr",
        "outputId": "a525720e-aa90-4603-c642-1d12b3bd45d1"
      },
      "source": [
        "plt.figure(figsize = (15,5))\n",
        "sns.countplot(df['Months'])"
      ],
      "execution_count": 58,
      "outputs": [
        {
          "output_type": "execute_result",
          "data": {
            "text/plain": [
              "<matplotlib.axes._subplots.AxesSubplot at 0x7fe4c4a4d610>"
            ]
          },
          "metadata": {
            "tags": []
          },
          "execution_count": 58
        },
        {
          "output_type": "display_data",
          "data": {
            "image/png": "[encoded data removed]",
            "text/plain": [
              "<Figure size 1080x360 with 1 Axes>"
            ]
          },
          "metadata": {
            "tags": [],
            "needs_background": "light"
          }
        }
      ]
    },
    {
      "cell_type": "code",
      "metadata": {
        "colab": {
          "base_uri": "https://localhost:8080/",
          "height": 373
        },
        "id": "00QaPPhymZtG",
        "outputId": "b414dbb2-c8fd-4c66-ca01-ce9631fa78be"
      },
      "source": [
        "#Now create heatmap\n",
        "\n",
        "heatmap = df[['CLV', 'Income', 'Monthly Premium Auto','Total Claim Amount']]\n",
        "plt.figure(figsize=(7,4))\n",
        "sns.heatmap(heatmap.corr(),annot=True)\n",
        "plt.show()"
      ],
      "execution_count": 60,
      "outputs": [
        {
          "output_type": "display_data",
          "data": {
            "image/png": "[encoded data removed]",
            "text/plain": [
              "<Figure size 504x288 with 2 Axes>"
            ]
          },
          "metadata": {
            "tags": [],
            "needs_background": "light"
          }
        }
      ]
    },
    {
      "cell_type": "markdown",
      "metadata": {
        "id": "cKQoB8z5qM0q"
      },
      "source": [
        "- We can clearly see in the heatmap, that customer lifetime value has a better correlation with monthly premium auto "
      ]
    },
    {
      "cell_type": "markdown",
      "metadata": {
        "id": "92_A0YWYrIa1"
      },
      "source": [
        "## Data Preprocessing"
      ]
    },
    {
      "cell_type": "code",
      "metadata": {
        "colab": {
          "base_uri": "https://localhost:8080/",
          "height": 411
        },
        "id": "nBk_wNSumZwJ",
        "outputId": "cf973455-4fe5-4252-eee7-b071a0e3acef"
      },
      "source": [
        "cat_cols.head()"
      ],
      "execution_count": 63,
      "outputs": [
        {
          "output_type": "execute_result",
          "data": {
            "text/html": [
              "<div>\n",
              "<style scoped>\n",
              "    .dataframe tbody tr th:only-of-type {\n",
              "        vertical-align: middle;\n",
              "    }\n",
              "\n",
              "    .dataframe tbody tr th {\n",
              "        vertical-align: top;\n",
              "    }\n",
              "\n",
              "    .dataframe thead th {\n",
              "        text-align: right;\n",
              "    }\n",
              "</style>\n",
              "<table border=\"1\" class=\"dataframe\">\n",
              "  <thead>\n",
              "    <tr style=\"text-align: right;\">\n",
              "      <th></th>\n",
              "      <th>State</th>\n",
              "      <th>Response</th>\n",
              "      <th>Coverage</th>\n",
              "      <th>Education</th>\n",
              "      <th>EmploymentStatus</th>\n",
              "      <th>Gender</th>\n",
              "      <th>Location Code</th>\n",
              "      <th>Marital Status</th>\n",
              "      <th>Policy Type</th>\n",
              "      <th>Policy</th>\n",
              "      <th>Renew Offer Type</th>\n",
              "      <th>Sales Channel</th>\n",
              "      <th>Vehicle Class</th>\n",
              "      <th>Vehicle Size</th>\n",
              "      <th>Number of Open Complaints</th>\n",
              "      <th>Number of Policies</th>\n",
              "    </tr>\n",
              "  </thead>\n",
              "  <tbody>\n",
              "    <tr>\n",
              "      <th>0</th>\n",
              "      <td>Washington</td>\n",
              "      <td>No</td>\n",
              "      <td>Basic</td>\n",
              "      <td>Bachelor</td>\n",
              "      <td>Employed</td>\n",
              "      <td>F</td>\n",
              "      <td>Suburban</td>\n",
              "      <td>Married</td>\n",
              "      <td>Corporate Auto</td>\n",
              "      <td>Corporate L3</td>\n",
              "      <td>Offer1</td>\n",
              "      <td>Agent</td>\n",
              "      <td>Two-Door Car</td>\n",
              "      <td>Medsize</td>\n",
              "      <td>0</td>\n",
              "      <td>1</td>\n",
              "    </tr>\n",
              "    <tr>\n",
              "      <th>1</th>\n",
              "      <td>Arizona</td>\n",
              "      <td>No</td>\n",
              "      <td>Extended</td>\n",
              "      <td>Bachelor</td>\n",
              "      <td>Unemployed</td>\n",
              "      <td>F</td>\n",
              "      <td>Suburban</td>\n",
              "      <td>Single</td>\n",
              "      <td>Personal Auto</td>\n",
              "      <td>Personal L3</td>\n",
              "      <td>Offer3</td>\n",
              "      <td>Agent</td>\n",
              "      <td>Four-Door Car</td>\n",
              "      <td>Medsize</td>\n",
              "      <td>0</td>\n",
              "      <td>8</td>\n",
              "    </tr>\n",
              "    <tr>\n",
              "      <th>2</th>\n",
              "      <td>Nevada</td>\n",
              "      <td>No</td>\n",
              "      <td>Premium</td>\n",
              "      <td>Bachelor</td>\n",
              "      <td>Employed</td>\n",
              "      <td>F</td>\n",
              "      <td>Suburban</td>\n",
              "      <td>Married</td>\n",
              "      <td>Personal Auto</td>\n",
              "      <td>Personal L3</td>\n",
              "      <td>Offer1</td>\n",
              "      <td>Agent</td>\n",
              "      <td>Two-Door Car</td>\n",
              "      <td>Medsize</td>\n",
              "      <td>0</td>\n",
              "      <td>2</td>\n",
              "    </tr>\n",
              "    <tr>\n",
              "      <th>3</th>\n",
              "      <td>California</td>\n",
              "      <td>No</td>\n",
              "      <td>Basic</td>\n",
              "      <td>Bachelor</td>\n",
              "      <td>Unemployed</td>\n",
              "      <td>M</td>\n",
              "      <td>Suburban</td>\n",
              "      <td>Married</td>\n",
              "      <td>Corporate Auto</td>\n",
              "      <td>Corporate L2</td>\n",
              "      <td>Offer1</td>\n",
              "      <td>Call Center</td>\n",
              "      <td>SUV</td>\n",
              "      <td>Medsize</td>\n",
              "      <td>0</td>\n",
              "      <td>7</td>\n",
              "    </tr>\n",
              "    <tr>\n",
              "      <th>4</th>\n",
              "      <td>Washington</td>\n",
              "      <td>No</td>\n",
              "      <td>Basic</td>\n",
              "      <td>Bachelor</td>\n",
              "      <td>Employed</td>\n",
              "      <td>M</td>\n",
              "      <td>Rural</td>\n",
              "      <td>Single</td>\n",
              "      <td>Personal Auto</td>\n",
              "      <td>Personal L1</td>\n",
              "      <td>Offer1</td>\n",
              "      <td>Agent</td>\n",
              "      <td>Four-Door Car</td>\n",
              "      <td>Medsize</td>\n",
              "      <td>0</td>\n",
              "      <td>1</td>\n",
              "    </tr>\n",
              "  </tbody>\n",
              "</table>\n",
              "</div>"
            ],
            "text/plain": [
              "        State Response  ... Number of Open Complaints Number of Policies\n",
              "0  Washington       No  ...                         0                  1\n",
              "1     Arizona       No  ...                         0                  8\n",
              "2      Nevada       No  ...                         0                  2\n",
              "3  California       No  ...                         0                  7\n",
              "4  Washington       No  ...                         0                  1\n",
              "\n",
              "[5 rows x 16 columns]"
            ]
          },
          "metadata": {
            "tags": []
          },
          "execution_count": 63
        }
      ]
    },
    {
      "cell_type": "code",
      "metadata": {
        "id": "i0tH_MjimZzE"
      },
      "source": [
        "cat_cols.drop('Customer', axis = 1, inplace = True)"
      ],
      "execution_count": 62,
      "outputs": []
    },
    {
      "cell_type": "code",
      "metadata": {
        "id": "TsQUV9F2mZ2I"
      },
      "source": [
        "cat_dummies = pd.get_dummies(cat_cols, drop_first= True)"
      ],
      "execution_count": 64,
      "outputs": []
    },
    {
      "cell_type": "code",
      "metadata": {
        "colab": {
          "base_uri": "https://localhost:8080/",
          "height": 204
        },
        "id": "z3IHk9JtmZ6r",
        "outputId": "a6b3f6d6-0bea-47ed-cde3-03d28b57b61a"
      },
      "source": [
        "numerical_cols.head()"
      ],
      "execution_count": 67,
      "outputs": [
        {
          "output_type": "execute_result",
          "data": {
            "text/html": [
              "<div>\n",
              "<style scoped>\n",
              "    .dataframe tbody tr th:only-of-type {\n",
              "        vertical-align: middle;\n",
              "    }\n",
              "\n",
              "    .dataframe tbody tr th {\n",
              "        vertical-align: top;\n",
              "    }\n",
              "\n",
              "    .dataframe thead th {\n",
              "        text-align: right;\n",
              "    }\n",
              "</style>\n",
              "<table border=\"1\" class=\"dataframe\">\n",
              "  <thead>\n",
              "    <tr style=\"text-align: right;\">\n",
              "      <th></th>\n",
              "      <th>CLV</th>\n",
              "      <th>Income</th>\n",
              "      <th>Monthly Premium Auto</th>\n",
              "      <th>Months Since Last Claim</th>\n",
              "      <th>Months Since Policy Inception</th>\n",
              "      <th>Total Claim Amount</th>\n",
              "    </tr>\n",
              "  </thead>\n",
              "  <tbody>\n",
              "    <tr>\n",
              "      <th>0</th>\n",
              "      <td>2763.519279</td>\n",
              "      <td>56274</td>\n",
              "      <td>69</td>\n",
              "      <td>32</td>\n",
              "      <td>5</td>\n",
              "      <td>384.811147</td>\n",
              "    </tr>\n",
              "    <tr>\n",
              "      <th>1</th>\n",
              "      <td>6979.535903</td>\n",
              "      <td>0</td>\n",
              "      <td>94</td>\n",
              "      <td>13</td>\n",
              "      <td>42</td>\n",
              "      <td>1131.464935</td>\n",
              "    </tr>\n",
              "    <tr>\n",
              "      <th>2</th>\n",
              "      <td>12887.431650</td>\n",
              "      <td>48767</td>\n",
              "      <td>108</td>\n",
              "      <td>18</td>\n",
              "      <td>38</td>\n",
              "      <td>566.472247</td>\n",
              "    </tr>\n",
              "    <tr>\n",
              "      <th>3</th>\n",
              "      <td>7645.861827</td>\n",
              "      <td>0</td>\n",
              "      <td>106</td>\n",
              "      <td>18</td>\n",
              "      <td>65</td>\n",
              "      <td>529.881344</td>\n",
              "    </tr>\n",
              "    <tr>\n",
              "      <th>4</th>\n",
              "      <td>2813.692575</td>\n",
              "      <td>43836</td>\n",
              "      <td>73</td>\n",
              "      <td>12</td>\n",
              "      <td>44</td>\n",
              "      <td>138.130879</td>\n",
              "    </tr>\n",
              "  </tbody>\n",
              "</table>\n",
              "</div>"
            ],
            "text/plain": [
              "            CLV  Income  ...  Months Since Policy Inception  Total Claim Amount\n",
              "0   2763.519279   56274  ...                              5          384.811147\n",
              "1   6979.535903       0  ...                             42         1131.464935\n",
              "2  12887.431650   48767  ...                             38          566.472247\n",
              "3   7645.861827       0  ...                             65          529.881344\n",
              "4   2813.692575   43836  ...                             44          138.130879\n",
              "\n",
              "[5 rows x 6 columns]"
            ]
          },
          "metadata": {
            "tags": []
          },
          "execution_count": 67
        }
      ]
    },
    {
      "cell_type": "code",
      "metadata": {
        "id": "l1WZ4xFCmZ_5"
      },
      "source": [
        "numerical_cols.drop(columns=['Number of Open Complaints', 'Number of Policies'], inplace= True)"
      ],
      "execution_count": 66,
      "outputs": []
    },
    {
      "cell_type": "code",
      "metadata": {
        "id": "WEJvN6lVmaDb"
      },
      "source": [
        "data = pd.concat([numerical_cols, cat_dummies], axis = 1)"
      ],
      "execution_count": 68,
      "outputs": []
    },
    {
      "cell_type": "code",
      "metadata": {
        "colab": {
          "base_uri": "https://localhost:8080/",
          "height": 275
        },
        "id": "br9tv7cumaGk",
        "outputId": "feefb5bf-7c8f-4952-a5b3-80810f257a02"
      },
      "source": [
        "data.head()"
      ],
      "execution_count": 69,
      "outputs": [
        {
          "output_type": "execute_result",
          "data": {
            "text/html": [
              "<div>\n",
              "<style scoped>\n",
              "    .dataframe tbody tr th:only-of-type {\n",
              "        vertical-align: middle;\n",
              "    }\n",
              "\n",
              "    .dataframe tbody tr th {\n",
              "        vertical-align: top;\n",
              "    }\n",
              "\n",
              "    .dataframe thead th {\n",
              "        text-align: right;\n",
              "    }\n",
              "</style>\n",
              "<table border=\"1\" class=\"dataframe\">\n",
              "  <thead>\n",
              "    <tr style=\"text-align: right;\">\n",
              "      <th></th>\n",
              "      <th>CLV</th>\n",
              "      <th>Income</th>\n",
              "      <th>Monthly Premium Auto</th>\n",
              "      <th>Months Since Last Claim</th>\n",
              "      <th>Months Since Policy Inception</th>\n",
              "      <th>Total Claim Amount</th>\n",
              "      <th>Number of Open Complaints</th>\n",
              "      <th>Number of Policies</th>\n",
              "      <th>State_California</th>\n",
              "      <th>State_Nevada</th>\n",
              "      <th>State_Oregon</th>\n",
              "      <th>State_Washington</th>\n",
              "      <th>Response_Yes</th>\n",
              "      <th>Coverage_Extended</th>\n",
              "      <th>Coverage_Premium</th>\n",
              "      <th>Education_College</th>\n",
              "      <th>Education_Doctor</th>\n",
              "      <th>Education_High School or Below</th>\n",
              "      <th>Education_Master</th>\n",
              "      <th>EmploymentStatus_Employed</th>\n",
              "      <th>EmploymentStatus_Medical Leave</th>\n",
              "      <th>EmploymentStatus_Retired</th>\n",
              "      <th>EmploymentStatus_Unemployed</th>\n",
              "      <th>Gender_M</th>\n",
              "      <th>Location Code_Suburban</th>\n",
              "      <th>Location Code_Urban</th>\n",
              "      <th>Marital Status_Married</th>\n",
              "      <th>Marital Status_Single</th>\n",
              "      <th>Policy Type_Personal Auto</th>\n",
              "      <th>Policy Type_Special Auto</th>\n",
              "      <th>Policy_Corporate L2</th>\n",
              "      <th>Policy_Corporate L3</th>\n",
              "      <th>Policy_Personal L1</th>\n",
              "      <th>Policy_Personal L2</th>\n",
              "      <th>Policy_Personal L3</th>\n",
              "      <th>Policy_Special L1</th>\n",
              "      <th>Policy_Special L2</th>\n",
              "      <th>Policy_Special L3</th>\n",
              "      <th>Renew Offer Type_Offer2</th>\n",
              "      <th>Renew Offer Type_Offer3</th>\n",
              "      <th>Renew Offer Type_Offer4</th>\n",
              "      <th>Sales Channel_Branch</th>\n",
              "      <th>Sales Channel_Call Center</th>\n",
              "      <th>Sales Channel_Web</th>\n",
              "      <th>Vehicle Class_Luxury Car</th>\n",
              "      <th>Vehicle Class_Luxury SUV</th>\n",
              "      <th>Vehicle Class_SUV</th>\n",
              "      <th>Vehicle Class_Sports Car</th>\n",
              "      <th>Vehicle Class_Two-Door Car</th>\n",
              "      <th>Vehicle Size_Medsize</th>\n",
              "      <th>Vehicle Size_Small</th>\n",
              "    </tr>\n",
              "  </thead>\n",
              "  <tbody>\n",
              "    <tr>\n",
              "      <th>0</th>\n",
              "      <td>2763.519279</td>\n",
              "      <td>56274</td>\n",
              "      <td>69</td>\n",
              "      <td>32</td>\n",
              "      <td>5</td>\n",
              "      <td>384.811147</td>\n",
              "      <td>0</td>\n",
              "      <td>1</td>\n",
              "      <td>0</td>\n",
              "      <td>0</td>\n",
              "      <td>0</td>\n",
              "      <td>1</td>\n",
              "      <td>0</td>\n",
              "      <td>0</td>\n",
              "      <td>0</td>\n",
              "      <td>0</td>\n",
              "      <td>0</td>\n",
              "      <td>0</td>\n",
              "      <td>0</td>\n",
              "      <td>1</td>\n",
              "      <td>0</td>\n",
              "      <td>0</td>\n",
              "      <td>0</td>\n",
              "      <td>0</td>\n",
              "      <td>1</td>\n",
              "      <td>0</td>\n",
              "      <td>1</td>\n",
              "      <td>0</td>\n",
              "      <td>0</td>\n",
              "      <td>0</td>\n",
              "      <td>0</td>\n",
              "      <td>1</td>\n",
              "      <td>0</td>\n",
              "      <td>0</td>\n",
              "      <td>0</td>\n",
              "      <td>0</td>\n",
              "      <td>0</td>\n",
              "      <td>0</td>\n",
              "      <td>0</td>\n",
              "      <td>0</td>\n",
              "      <td>0</td>\n",
              "      <td>0</td>\n",
              "      <td>0</td>\n",
              "      <td>0</td>\n",
              "      <td>0</td>\n",
              "      <td>0</td>\n",
              "      <td>0</td>\n",
              "      <td>0</td>\n",
              "      <td>1</td>\n",
              "      <td>1</td>\n",
              "      <td>0</td>\n",
              "    </tr>\n",
              "    <tr>\n",
              "      <th>1</th>\n",
              "      <td>6979.535903</td>\n",
              "      <td>0</td>\n",
              "      <td>94</td>\n",
              "      <td>13</td>\n",
              "      <td>42</td>\n",
              "      <td>1131.464935</td>\n",
              "      <td>0</td>\n",
              "      <td>8</td>\n",
              "      <td>0</td>\n",
              "      <td>0</td>\n",
              "      <td>0</td>\n",
              "      <td>0</td>\n",
              "      <td>0</td>\n",
              "      <td>1</td>\n",
              "      <td>0</td>\n",
              "      <td>0</td>\n",
              "      <td>0</td>\n",
              "      <td>0</td>\n",
              "      <td>0</td>\n",
              "      <td>0</td>\n",
              "      <td>0</td>\n",
              "      <td>0</td>\n",
              "      <td>1</td>\n",
              "      <td>0</td>\n",
              "      <td>1</td>\n",
              "      <td>0</td>\n",
              "      <td>0</td>\n",
              "      <td>1</td>\n",
              "      <td>1</td>\n",
              "      <td>0</td>\n",
              "      <td>0</td>\n",
              "      <td>0</td>\n",
              "      <td>0</td>\n",
              "      <td>0</td>\n",
              "      <td>1</td>\n",
              "      <td>0</td>\n",
              "      <td>0</td>\n",
              "      <td>0</td>\n",
              "      <td>0</td>\n",
              "      <td>1</td>\n",
              "      <td>0</td>\n",
              "      <td>0</td>\n",
              "      <td>0</td>\n",
              "      <td>0</td>\n",
              "      <td>0</td>\n",
              "      <td>0</td>\n",
              "      <td>0</td>\n",
              "      <td>0</td>\n",
              "      <td>0</td>\n",
              "      <td>1</td>\n",
              "      <td>0</td>\n",
              "    </tr>\n",
              "    <tr>\n",
              "      <th>2</th>\n",
              "      <td>12887.431650</td>\n",
              "      <td>48767</td>\n",
              "      <td>108</td>\n",
              "      <td>18</td>\n",
              "      <td>38</td>\n",
              "      <td>566.472247</td>\n",
              "      <td>0</td>\n",
              "      <td>2</td>\n",
              "      <td>0</td>\n",
              "      <td>1</td>\n",
              "      <td>0</td>\n",
              "      <td>0</td>\n",
              "      <td>0</td>\n",
              "      <td>0</td>\n",
              "      <td>1</td>\n",
              "      <td>0</td>\n",
              "      <td>0</td>\n",
              "      <td>0</td>\n",
              "      <td>0</td>\n",
              "      <td>1</td>\n",
              "      <td>0</td>\n",
              "      <td>0</td>\n",
              "      <td>0</td>\n",
              "      <td>0</td>\n",
              "      <td>1</td>\n",
              "      <td>0</td>\n",
              "      <td>1</td>\n",
              "      <td>0</td>\n",
              "      <td>1</td>\n",
              "      <td>0</td>\n",
              "      <td>0</td>\n",
              "      <td>0</td>\n",
              "      <td>0</td>\n",
              "      <td>0</td>\n",
              "      <td>1</td>\n",
              "      <td>0</td>\n",
              "      <td>0</td>\n",
              "      <td>0</td>\n",
              "      <td>0</td>\n",
              "      <td>0</td>\n",
              "      <td>0</td>\n",
              "      <td>0</td>\n",
              "      <td>0</td>\n",
              "      <td>0</td>\n",
              "      <td>0</td>\n",
              "      <td>0</td>\n",
              "      <td>0</td>\n",
              "      <td>0</td>\n",
              "      <td>1</td>\n",
              "      <td>1</td>\n",
              "      <td>0</td>\n",
              "    </tr>\n",
              "    <tr>\n",
              "      <th>3</th>\n",
              "      <td>7645.861827</td>\n",
              "      <td>0</td>\n",
              "      <td>106</td>\n",
              "      <td>18</td>\n",
              "      <td>65</td>\n",
              "      <td>529.881344</td>\n",
              "      <td>0</td>\n",
              "      <td>7</td>\n",
              "      <td>1</td>\n",
              "      <td>0</td>\n",
              "      <td>0</td>\n",
              "      <td>0</td>\n",
              "      <td>0</td>\n",
              "      <td>0</td>\n",
              "      <td>0</td>\n",
              "      <td>0</td>\n",
              "      <td>0</td>\n",
              "      <td>0</td>\n",
              "      <td>0</td>\n",
              "      <td>0</td>\n",
              "      <td>0</td>\n",
              "      <td>0</td>\n",
              "      <td>1</td>\n",
              "      <td>1</td>\n",
              "      <td>1</td>\n",
              "      <td>0</td>\n",
              "      <td>1</td>\n",
              "      <td>0</td>\n",
              "      <td>0</td>\n",
              "      <td>0</td>\n",
              "      <td>1</td>\n",
              "      <td>0</td>\n",
              "      <td>0</td>\n",
              "      <td>0</td>\n",
              "      <td>0</td>\n",
              "      <td>0</td>\n",
              "      <td>0</td>\n",
              "      <td>0</td>\n",
              "      <td>0</td>\n",
              "      <td>0</td>\n",
              "      <td>0</td>\n",
              "      <td>0</td>\n",
              "      <td>1</td>\n",
              "      <td>0</td>\n",
              "      <td>0</td>\n",
              "      <td>0</td>\n",
              "      <td>1</td>\n",
              "      <td>0</td>\n",
              "      <td>0</td>\n",
              "      <td>1</td>\n",
              "      <td>0</td>\n",
              "    </tr>\n",
              "    <tr>\n",
              "      <th>4</th>\n",
              "      <td>2813.692575</td>\n",
              "      <td>43836</td>\n",
              "      <td>73</td>\n",
              "      <td>12</td>\n",
              "      <td>44</td>\n",
              "      <td>138.130879</td>\n",
              "      <td>0</td>\n",
              "      <td>1</td>\n",
              "      <td>0</td>\n",
              "      <td>0</td>\n",
              "      <td>0</td>\n",
              "      <td>1</td>\n",
              "      <td>0</td>\n",
              "      <td>0</td>\n",
              "      <td>0</td>\n",
              "      <td>0</td>\n",
              "      <td>0</td>\n",
              "      <td>0</td>\n",
              "      <td>0</td>\n",
              "      <td>1</td>\n",
              "      <td>0</td>\n",
              "      <td>0</td>\n",
              "      <td>0</td>\n",
              "      <td>1</td>\n",
              "      <td>0</td>\n",
              "      <td>0</td>\n",
              "      <td>0</td>\n",
              "      <td>1</td>\n",
              "      <td>1</td>\n",
              "      <td>0</td>\n",
              "      <td>0</td>\n",
              "      <td>0</td>\n",
              "      <td>1</td>\n",
              "      <td>0</td>\n",
              "      <td>0</td>\n",
              "      <td>0</td>\n",
              "      <td>0</td>\n",
              "      <td>0</td>\n",
              "      <td>0</td>\n",
              "      <td>0</td>\n",
              "      <td>0</td>\n",
              "      <td>0</td>\n",
              "      <td>0</td>\n",
              "      <td>0</td>\n",
              "      <td>0</td>\n",
              "      <td>0</td>\n",
              "      <td>0</td>\n",
              "      <td>0</td>\n",
              "      <td>0</td>\n",
              "      <td>1</td>\n",
              "      <td>0</td>\n",
              "    </tr>\n",
              "  </tbody>\n",
              "</table>\n",
              "</div>"
            ],
            "text/plain": [
              "            CLV  Income  ...  Vehicle Size_Medsize  Vehicle Size_Small\n",
              "0   2763.519279   56274  ...                     1                   0\n",
              "1   6979.535903       0  ...                     1                   0\n",
              "2  12887.431650   48767  ...                     1                   0\n",
              "3   7645.861827       0  ...                     1                   0\n",
              "4   2813.692575   43836  ...                     1                   0\n",
              "\n",
              "[5 rows x 51 columns]"
            ]
          },
          "metadata": {
            "tags": []
          },
          "execution_count": 69
        }
      ]
    },
    {
      "cell_type": "code",
      "metadata": {
        "colab": {
          "base_uri": "https://localhost:8080/"
        },
        "id": "n1tzsdpcmaKi",
        "outputId": "90257cb8-7184-4dcc-df3a-0c7fcd52b9a9"
      },
      "source": [
        "data.shape"
      ],
      "execution_count": 70,
      "outputs": [
        {
          "output_type": "execute_result",
          "data": {
            "text/plain": [
              "(9134, 51)"
            ]
          },
          "metadata": {
            "tags": []
          },
          "execution_count": 70
        }
      ]
    },
    {
      "cell_type": "markdown",
      "metadata": {
        "id": "brQIm082sSYU"
      },
      "source": [
        "### OLS Model"
      ]
    },
    {
      "cell_type": "code",
      "metadata": {
        "id": "gLE2qv7bmaN4"
      },
      "source": [
        "X = data.drop('CLV', axis = 1)\n",
        "y = data['CLV']"
      ],
      "execution_count": 71,
      "outputs": []
    },
    {
      "cell_type": "code",
      "metadata": {
        "id": "RYtE1bX5maRu"
      },
      "source": [
        "import statsmodels.api as sm\n",
        "X_constant = sm.add_constant(X)\n",
        "lin_reg = sm.OLS(y, X_constant).fit()"
      ],
      "execution_count": 74,
      "outputs": []
    },
    {
      "cell_type": "code",
      "metadata": {
        "colab": {
          "base_uri": "https://localhost:8080/",
          "height": 1000
        },
        "id": "yp82UPRzmaVd",
        "outputId": "6db4b8d2-8805-4965-dd92-7e3ae3c34d4d"
      },
      "source": [
        "lin_reg.summary()"
      ],
      "execution_count": 75,
      "outputs": [
        {
          "output_type": "execute_result",
          "data": {
            "text/html": [
              "<table class=\"simpletable\">\n",
              "<caption>OLS Regression Results</caption>\n",
              "<tr>\n",
              "  <th>Dep. Variable:</th>           <td>CLV</td>       <th>  R-squared:         </th> <td>   0.169</td> \n",
              "</tr>\n",
              "<tr>\n",
              "  <th>Model:</th>                   <td>OLS</td>       <th>  Adj. R-squared:    </th> <td>   0.165</td> \n",
              "</tr>\n",
              "<tr>\n",
              "  <th>Method:</th>             <td>Least Squares</td>  <th>  F-statistic:       </th> <td>   38.60</td> \n",
              "</tr>\n",
              "<tr>\n",
              "  <th>Date:</th>             <td>Wed, 07 Apr 2021</td> <th>  Prob (F-statistic):</th> <td>6.92e-323</td>\n",
              "</tr>\n",
              "<tr>\n",
              "  <th>Time:</th>                 <td>04:59:45</td>     <th>  Log-Likelihood:    </th> <td> -92812.</td> \n",
              "</tr>\n",
              "<tr>\n",
              "  <th>No. Observations:</th>      <td>  9134</td>      <th>  AIC:               </th> <td>1.857e+05</td>\n",
              "</tr>\n",
              "<tr>\n",
              "  <th>Df Residuals:</th>          <td>  9085</td>      <th>  BIC:               </th> <td>1.861e+05</td>\n",
              "</tr>\n",
              "<tr>\n",
              "  <th>Df Model:</th>              <td>    48</td>      <th>                     </th>     <td> </td>    \n",
              "</tr>\n",
              "<tr>\n",
              "  <th>Covariance Type:</th>      <td>nonrobust</td>    <th>                     </th>     <td> </td>    \n",
              "</tr>\n",
              "</table>\n",
              "<table class=\"simpletable\">\n",
              "<tr>\n",
              "                 <td></td>                   <th>coef</th>     <th>std err</th>      <th>t</th>      <th>P>|t|</th>  <th>[0.025</th>    <th>0.975]</th>  \n",
              "</tr>\n",
              "<tr>\n",
              "  <th>const</th>                          <td> 1486.6386</td> <td>  903.661</td> <td>    1.645</td> <td> 0.100</td> <td> -284.740</td> <td> 3258.017</td>\n",
              "</tr>\n",
              "<tr>\n",
              "  <th>Income</th>                         <td>   -0.0012</td> <td>    0.004</td> <td>   -0.307</td> <td> 0.759</td> <td>   -0.009</td> <td>    0.006</td>\n",
              "</tr>\n",
              "<tr>\n",
              "  <th>Monthly Premium Auto</th>           <td>   69.5779</td> <td>   10.026</td> <td>    6.940</td> <td> 0.000</td> <td>   49.926</td> <td>   89.230</td>\n",
              "</tr>\n",
              "<tr>\n",
              "  <th>Months Since Last Claim</th>        <td>    7.0626</td> <td>    6.554</td> <td>    1.078</td> <td> 0.281</td> <td>   -5.785</td> <td>   19.911</td>\n",
              "</tr>\n",
              "<tr>\n",
              "  <th>Months Since Policy Inception</th>  <td>   -1.3200</td> <td>    2.380</td> <td>   -0.555</td> <td> 0.579</td> <td>   -5.985</td> <td>    3.345</td>\n",
              "</tr>\n",
              "<tr>\n",
              "  <th>Total Claim Amount</th>             <td>   -0.2268</td> <td>    0.474</td> <td>   -0.478</td> <td> 0.632</td> <td>   -1.156</td> <td>    0.703</td>\n",
              "</tr>\n",
              "<tr>\n",
              "  <th>Number of Open Complaints</th>      <td> -264.2647</td> <td>   72.496</td> <td>   -3.645</td> <td> 0.000</td> <td> -406.373</td> <td> -122.157</td>\n",
              "</tr>\n",
              "<tr>\n",
              "  <th>Number of Policies</th>             <td>   57.7126</td> <td>   27.753</td> <td>    2.080</td> <td> 0.038</td> <td>    3.311</td> <td>  112.114</td>\n",
              "</tr>\n",
              "<tr>\n",
              "  <th>State_California</th>               <td>   39.9647</td> <td>  189.426</td> <td>    0.211</td> <td> 0.833</td> <td> -331.354</td> <td>  411.283</td>\n",
              "</tr>\n",
              "<tr>\n",
              "  <th>State_Nevada</th>                   <td>   45.7021</td> <td>  261.160</td> <td>    0.175</td> <td> 0.861</td> <td> -466.231</td> <td>  557.635</td>\n",
              "</tr>\n",
              "<tr>\n",
              "  <th>State_Oregon</th>                   <td>   84.9912</td> <td>  196.050</td> <td>    0.434</td> <td> 0.665</td> <td> -299.312</td> <td>  469.294</td>\n",
              "</tr>\n",
              "<tr>\n",
              "  <th>State_Washington</th>               <td>  164.3324</td> <td>  269.980</td> <td>    0.609</td> <td> 0.543</td> <td> -364.888</td> <td>  693.553</td>\n",
              "</tr>\n",
              "<tr>\n",
              "  <th>Response_Yes</th>                   <td> -215.9162</td> <td>  207.436</td> <td>   -1.041</td> <td> 0.298</td> <td> -622.538</td> <td>  190.705</td>\n",
              "</tr>\n",
              "<tr>\n",
              "  <th>Coverage_Extended</th>              <td>  130.1678</td> <td>  249.287</td> <td>    0.522</td> <td> 0.602</td> <td> -358.490</td> <td>  618.826</td>\n",
              "</tr>\n",
              "<tr>\n",
              "  <th>Coverage_Premium</th>               <td>   61.7491</td> <td>  527.605</td> <td>    0.117</td> <td> 0.907</td> <td> -972.476</td> <td> 1095.974</td>\n",
              "</tr>\n",
              "<tr>\n",
              "  <th>Education_College</th>              <td>   -1.5962</td> <td>  171.219</td> <td>   -0.009</td> <td> 0.993</td> <td> -337.225</td> <td>  334.032</td>\n",
              "</tr>\n",
              "<tr>\n",
              "  <th>Education_Doctor</th>               <td> -197.9744</td> <td>  362.976</td> <td>   -0.545</td> <td> 0.585</td> <td> -909.488</td> <td>  513.540</td>\n",
              "</tr>\n",
              "<tr>\n",
              "  <th>Education_High School or Below</th> <td>  388.9735</td> <td>  173.415</td> <td>    2.243</td> <td> 0.025</td> <td>   49.041</td> <td>  728.906</td>\n",
              "</tr>\n",
              "<tr>\n",
              "  <th>Education_Master</th>               <td>  157.9503</td> <td>  262.899</td> <td>    0.601</td> <td> 0.548</td> <td> -357.390</td> <td>  673.291</td>\n",
              "</tr>\n",
              "<tr>\n",
              "  <th>EmploymentStatus_Employed</th>      <td>  700.4418</td> <td>  354.477</td> <td>    1.976</td> <td> 0.048</td> <td>    5.587</td> <td> 1395.296</td>\n",
              "</tr>\n",
              "<tr>\n",
              "  <th>EmploymentStatus_Medical Leave</th> <td>  210.8226</td> <td>  436.143</td> <td>    0.483</td> <td> 0.629</td> <td> -644.116</td> <td> 1065.761</td>\n",
              "</tr>\n",
              "<tr>\n",
              "  <th>EmploymentStatus_Retired</th>       <td>   64.6393</td> <td>  502.732</td> <td>    0.129</td> <td> 0.898</td> <td> -920.829</td> <td> 1050.108</td>\n",
              "</tr>\n",
              "<tr>\n",
              "  <th>EmploymentStatus_Unemployed</th>    <td>    9.1563</td> <td>  357.613</td> <td>    0.026</td> <td> 0.980</td> <td> -691.846</td> <td>  710.158</td>\n",
              "</tr>\n",
              "<tr>\n",
              "  <th>Gender_M</th>                       <td> -143.5239</td> <td>  132.973</td> <td>   -1.079</td> <td> 0.280</td> <td> -404.181</td> <td>  117.133</td>\n",
              "</tr>\n",
              "<tr>\n",
              "  <th>Location Code_Suburban</th>         <td>  -73.7895</td> <td>  263.381</td> <td>   -0.280</td> <td> 0.779</td> <td> -590.076</td> <td>  442.497</td>\n",
              "</tr>\n",
              "<tr>\n",
              "  <th>Location Code_Urban</th>            <td>  128.8756</td> <td>  241.416</td> <td>    0.534</td> <td> 0.593</td> <td> -344.355</td> <td>  602.106</td>\n",
              "</tr>\n",
              "<tr>\n",
              "  <th>Marital Status_Married</th>         <td> -177.6388</td> <td>  194.800</td> <td>   -0.912</td> <td> 0.362</td> <td> -559.490</td> <td>  204.212</td>\n",
              "</tr>\n",
              "<tr>\n",
              "  <th>Marital Status_Single</th>          <td> -490.7108</td> <td>  225.714</td> <td>   -2.174</td> <td> 0.030</td> <td> -933.161</td> <td>  -48.260</td>\n",
              "</tr>\n",
              "<tr>\n",
              "  <th>Policy Type_Personal Auto</th>      <td> -305.6726</td> <td>  256.741</td> <td>   -1.191</td> <td> 0.234</td> <td> -808.943</td> <td>  197.598</td>\n",
              "</tr>\n",
              "<tr>\n",
              "  <th>Policy Type_Special Auto</th>       <td>  165.6132</td> <td>  362.670</td> <td>    0.457</td> <td> 0.648</td> <td> -545.301</td> <td>  876.527</td>\n",
              "</tr>\n",
              "<tr>\n",
              "  <th>Policy_Corporate L2</th>            <td>-1007.2895</td> <td>  420.508</td> <td>   -2.395</td> <td> 0.017</td> <td>-1831.581</td> <td> -182.998</td>\n",
              "</tr>\n",
              "<tr>\n",
              "  <th>Policy_Corporate L3</th>            <td> -668.9524</td> <td>  386.386</td> <td>   -1.731</td> <td> 0.083</td> <td>-1426.357</td> <td>   88.452</td>\n",
              "</tr>\n",
              "<tr>\n",
              "  <th>Policy_Personal L1</th>             <td> -161.3307</td> <td>  163.621</td> <td>   -0.986</td> <td> 0.324</td> <td> -482.065</td> <td>  159.404</td>\n",
              "</tr>\n",
              "<tr>\n",
              "  <th>Policy_Personal L2</th>             <td>   -6.5954</td> <td>  141.822</td> <td>   -0.047</td> <td> 0.963</td> <td> -284.598</td> <td>  271.408</td>\n",
              "</tr>\n",
              "<tr>\n",
              "  <th>Policy_Personal L3</th>             <td> -137.7465</td> <td>  128.664</td> <td>   -1.071</td> <td> 0.284</td> <td> -389.957</td> <td>  114.464</td>\n",
              "</tr>\n",
              "<tr>\n",
              "  <th>Policy_Special L1</th>              <td>   27.9113</td> <td>  613.988</td> <td>    0.045</td> <td> 0.964</td> <td>-1175.643</td> <td> 1231.465</td>\n",
              "</tr>\n",
              "<tr>\n",
              "  <th>Policy_Special L2</th>              <td> -334.1257</td> <td>  443.941</td> <td>   -0.753</td> <td> 0.452</td> <td>-1204.351</td> <td>  536.099</td>\n",
              "</tr>\n",
              "<tr>\n",
              "  <th>Policy_Special L3</th>              <td>  471.8275</td> <td>  458.306</td> <td>    1.030</td> <td> 0.303</td> <td> -426.556</td> <td> 1370.211</td>\n",
              "</tr>\n",
              "<tr>\n",
              "  <th>Renew Offer Type_Offer2</th>        <td> -965.7715</td> <td>  165.363</td> <td>   -5.840</td> <td> 0.000</td> <td>-1289.920</td> <td> -641.623</td>\n",
              "</tr>\n",
              "<tr>\n",
              "  <th>Renew Offer Type_Offer3</th>        <td> -535.2550</td> <td>  200.282</td> <td>   -2.673</td> <td> 0.008</td> <td> -927.853</td> <td> -142.657</td>\n",
              "</tr>\n",
              "<tr>\n",
              "  <th>Renew Offer Type_Offer4</th>        <td>-1196.6484</td> <td>  233.357</td> <td>   -5.128</td> <td> 0.000</td> <td>-1654.080</td> <td> -739.217</td>\n",
              "</tr>\n",
              "<tr>\n",
              "  <th>Sales Channel_Branch</th>           <td>  227.6845</td> <td>  164.822</td> <td>    1.381</td> <td> 0.167</td> <td>  -95.404</td> <td>  550.773</td>\n",
              "</tr>\n",
              "<tr>\n",
              "  <th>Sales Channel_Call Center</th>      <td>  350.0434</td> <td>  186.196</td> <td>    1.880</td> <td> 0.060</td> <td>  -14.942</td> <td>  715.029</td>\n",
              "</tr>\n",
              "<tr>\n",
              "  <th>Sales Channel_Web</th>              <td>   56.3085</td> <td>  206.103</td> <td>    0.273</td> <td> 0.785</td> <td> -347.701</td> <td>  460.318</td>\n",
              "</tr>\n",
              "<tr>\n",
              "  <th>Vehicle Class_Luxury Car</th>       <td> 1193.8204</td> <td> 1384.216</td> <td>    0.862</td> <td> 0.388</td> <td>-1519.555</td> <td> 3907.196</td>\n",
              "</tr>\n",
              "<tr>\n",
              "  <th>Vehicle Class_Luxury SUV</th>       <td> 1160.9889</td> <td> 1372.147</td> <td>    0.846</td> <td> 0.398</td> <td>-1528.728</td> <td> 3850.706</td>\n",
              "</tr>\n",
              "<tr>\n",
              "  <th>Vehicle Class_SUV</th>              <td>  790.4905</td> <td>  457.031</td> <td>    1.730</td> <td> 0.084</td> <td> -105.394</td> <td> 1686.375</td>\n",
              "</tr>\n",
              "<tr>\n",
              "  <th>Vehicle Class_Sports Car</th>       <td> 1020.0479</td> <td>  526.252</td> <td>    1.938</td> <td> 0.053</td> <td>  -11.524</td> <td> 2051.620</td>\n",
              "</tr>\n",
              "<tr>\n",
              "  <th>Vehicle Class_Two-Door Car</th>     <td>  110.3101</td> <td>  172.088</td> <td>    0.641</td> <td> 0.522</td> <td> -227.021</td> <td>  447.642</td>\n",
              "</tr>\n",
              "<tr>\n",
              "  <th>Vehicle Size_Medsize</th>           <td>  304.2439</td> <td>  219.734</td> <td>    1.385</td> <td> 0.166</td> <td> -126.483</td> <td>  734.971</td>\n",
              "</tr>\n",
              "<tr>\n",
              "  <th>Vehicle Size_Small</th>             <td>  438.6969</td> <td>  255.673</td> <td>    1.716</td> <td> 0.086</td> <td>  -62.480</td> <td>  939.874</td>\n",
              "</tr>\n",
              "</table>\n",
              "<table class=\"simpletable\">\n",
              "<tr>\n",
              "  <th>Omnibus:</th>       <td>5666.276</td> <th>  Durbin-Watson:     </th> <td>   1.995</td> \n",
              "</tr>\n",
              "<tr>\n",
              "  <th>Prob(Omnibus):</th>  <td> 0.000</td>  <th>  Jarque-Bera (JB):  </th> <td>65051.545</td>\n",
              "</tr>\n",
              "<tr>\n",
              "  <th>Skew:</th>           <td> 2.849</td>  <th>  Prob(JB):          </th> <td>    0.00</td> \n",
              "</tr>\n",
              "<tr>\n",
              "  <th>Kurtosis:</th>       <td>14.767</td>  <th>  Cond. No.          </th> <td>1.29e+16</td> \n",
              "</tr>\n",
              "</table><br/><br/>Warnings:<br/>[1] Standard Errors assume that the covariance matrix of the errors is correctly specified.<br/>[2] The smallest eigenvalue is 1.29e-19. This might indicate that there are<br/>strong multicollinearity problems or that the design matrix is singular."
            ],
            "text/plain": [
              "<class 'statsmodels.iolib.summary.Summary'>\n",
              "\"\"\"\n",
              "                            OLS Regression Results                            \n",
              "==============================================================================\n",
              "Dep. Variable:                    CLV   R-squared:                       0.169\n",
              "Model:                            OLS   Adj. R-squared:                  0.165\n",
              "Method:                 Least Squares   F-statistic:                     38.60\n",
              "Date:                Wed, 07 Apr 2021   Prob (F-statistic):          6.92e-323\n",
              "Time:                        04:59:45   Log-Likelihood:                -92812.\n",
              "No. Observations:                9134   AIC:                         1.857e+05\n",
              "Df Residuals:                    9085   BIC:                         1.861e+05\n",
              "Df Model:                          48                                         \n",
              "Covariance Type:            nonrobust                                         \n",
              "==================================================================================================\n",
              "                                     coef    std err          t      P>|t|      [0.025      0.975]\n",
              "--------------------------------------------------------------------------------------------------\n",
              "const                           1486.6386    903.661      1.645      0.100    -284.740    3258.017\n",
              "Income                            -0.0012      0.004     -0.307      0.759      -0.009       0.006\n",
              "Monthly Premium Auto              69.5779     10.026      6.940      0.000      49.926      89.230\n",
              "Months Since Last Claim            7.0626      6.554      1.078      0.281      -5.785      19.911\n",
              "Months Since Policy Inception     -1.3200      2.380     -0.555      0.579      -5.985       3.345\n",
              "Total Claim Amount                -0.2268      0.474     -0.478      0.632      -1.156       0.703\n",
              "Number of Open Complaints       -264.2647     72.496     -3.645      0.000    -406.373    -122.157\n",
              "Number of Policies                57.7126     27.753      2.080      0.038       3.311     112.114\n",
              "State_California                  39.9647    189.426      0.211      0.833    -331.354     411.283\n",
              "State_Nevada                      45.7021    261.160      0.175      0.861    -466.231     557.635\n",
              "State_Oregon                      84.9912    196.050      0.434      0.665    -299.312     469.294\n",
              "State_Washington                 164.3324    269.980      0.609      0.543    -364.888     693.553\n",
              "Response_Yes                    -215.9162    207.436     -1.041      0.298    -622.538     190.705\n",
              "Coverage_Extended                130.1678    249.287      0.522      0.602    -358.490     618.826\n",
              "Coverage_Premium                  61.7491    527.605      0.117      0.907    -972.476    1095.974\n",
              "Education_College                 -1.5962    171.219     -0.009      0.993    -337.225     334.032\n",
              "Education_Doctor                -197.9744    362.976     -0.545      0.585    -909.488     513.540\n",
              "Education_High School or Below   388.9735    173.415      2.243      0.025      49.041     728.906\n",
              "Education_Master                 157.9503    262.899      0.601      0.548    -357.390     673.291\n",
              "EmploymentStatus_Employed        700.4418    354.477      1.976      0.048       5.587    1395.296\n",
              "EmploymentStatus_Medical Leave   210.8226    436.143      0.483      0.629    -644.116    1065.761\n",
              "EmploymentStatus_Retired          64.6393    502.732      0.129      0.898    -920.829    1050.108\n",
              "EmploymentStatus_Unemployed        9.1563    357.613      0.026      0.980    -691.846     710.158\n",
              "Gender_M                        -143.5239    132.973     -1.079      0.280    -404.181     117.133\n",
              "Location Code_Suburban           -73.7895    263.381     -0.280      0.779    -590.076     442.497\n",
              "Location Code_Urban              128.8756    241.416      0.534      0.593    -344.355     602.106\n",
              "Marital Status_Married          -177.6388    194.800     -0.912      0.362    -559.490     204.212\n",
              "Marital Status_Single           -490.7108    225.714     -2.174      0.030    -933.161     -48.260\n",
              "Policy Type_Personal Auto       -305.6726    256.741     -1.191      0.234    -808.943     197.598\n",
              "Policy Type_Special Auto         165.6132    362.670      0.457      0.648    -545.301     876.527\n",
              "Policy_Corporate L2            -1007.2895    420.508     -2.395      0.017   -1831.581    -182.998\n",
              "Policy_Corporate L3             -668.9524    386.386     -1.731      0.083   -1426.357      88.452\n",
              "Policy_Personal L1              -161.3307    163.621     -0.986      0.324    -482.065     159.404\n",
              "Policy_Personal L2                -6.5954    141.822     -0.047      0.963    -284.598     271.408\n",
              "Policy_Personal L3              -137.7465    128.664     -1.071      0.284    -389.957     114.464\n",
              "Policy_Special L1                 27.9113    613.988      0.045      0.964   -1175.643    1231.465\n",
              "Policy_Special L2               -334.1257    443.941     -0.753      0.452   -1204.351     536.099\n",
              "Policy_Special L3                471.8275    458.306      1.030      0.303    -426.556    1370.211\n",
              "Renew Offer Type_Offer2         -965.7715    165.363     -5.840      0.000   -1289.920    -641.623\n",
              "Renew Offer Type_Offer3         -535.2550    200.282     -2.673      0.008    -927.853    -142.657\n",
              "Renew Offer Type_Offer4        -1196.6484    233.357     -5.128      0.000   -1654.080    -739.217\n",
              "Sales Channel_Branch             227.6845    164.822      1.381      0.167     -95.404     550.773\n",
              "Sales Channel_Call Center        350.0434    186.196      1.880      0.060     -14.942     715.029\n",
              "Sales Channel_Web                 56.3085    206.103      0.273      0.785    -347.701     460.318\n",
              "Vehicle Class_Luxury Car        1193.8204   1384.216      0.862      0.388   -1519.555    3907.196\n",
              "Vehicle Class_Luxury SUV        1160.9889   1372.147      0.846      0.398   -1528.728    3850.706\n",
              "Vehicle Class_SUV                790.4905    457.031      1.730      0.084    -105.394    1686.375\n",
              "Vehicle Class_Sports Car        1020.0479    526.252      1.938      0.053     -11.524    2051.620\n",
              "Vehicle Class_Two-Door Car       110.3101    172.088      0.641      0.522    -227.021     447.642\n",
              "Vehicle Size_Medsize             304.2439    219.734      1.385      0.166    -126.483     734.971\n",
              "Vehicle Size_Small               438.6969    255.673      1.716      0.086     -62.480     939.874\n",
              "==============================================================================\n",
              "Omnibus:                     5666.276   Durbin-Watson:                   1.995\n",
              "Prob(Omnibus):                  0.000   Jarque-Bera (JB):            65051.545\n",
              "Skew:                           2.849   Prob(JB):                         0.00\n",
              "Kurtosis:                      14.767   Cond. No.                     1.29e+16\n",
              "==============================================================================\n",
              "\n",
              "Warnings:\n",
              "[1] Standard Errors assume that the covariance matrix of the errors is correctly specified.\n",
              "[2] The smallest eigenvalue is 1.29e-19. This might indicate that there are\n",
              "strong multicollinearity problems or that the design matrix is singular.\n",
              "\"\"\""
            ]
          },
          "metadata": {
            "tags": []
          },
          "execution_count": 75
        }
      ]
    },
    {
      "cell_type": "markdown",
      "metadata": {
        "id": "rGGEyHyAtsYo"
      },
      "source": [
        "Assumption - NO MULTI COLLINEARITY\n",
        "\n",
        "The interpretation of VIF is as follows: the square root of a given variable’s VIF shows how much larger the standard error is, compared with what it would be if that predictor were uncorrelated with the other features in the model. If no features are correlated, then all values for VIF will be 1."
      ]
    },
    {
      "cell_type": "code",
      "metadata": {
        "colab": {
          "base_uri": "https://localhost:8080/",
          "height": 1000
        },
        "id": "P8L8SuPsmaaO",
        "outputId": "6fd9d583-2dbc-448d-9a73-727da9b0d80e"
      },
      "source": [
        "from statsmodels.stats.outliers_influence import variance_inflation_factor\n",
        "vif = [variance_inflation_factor(X_constant.values, i) for i in range(X_constant.shape[1])]\n",
        "pd.DataFrame({'vif': vif[1:]}, index=X.columns)"
      ],
      "execution_count": 76,
      "outputs": [
        {
          "output_type": "execute_result",
          "data": {
            "text/html": [
              "<div>\n",
              "<style scoped>\n",
              "    .dataframe tbody tr th:only-of-type {\n",
              "        vertical-align: middle;\n",
              "    }\n",
              "\n",
              "    .dataframe tbody tr th {\n",
              "        vertical-align: top;\n",
              "    }\n",
              "\n",
              "    .dataframe thead th {\n",
              "        text-align: right;\n",
              "    }\n",
              "</style>\n",
              "<table border=\"1\" class=\"dataframe\">\n",
              "  <thead>\n",
              "    <tr style=\"text-align: right;\">\n",
              "      <th></th>\n",
              "      <th>vif</th>\n",
              "    </tr>\n",
              "  </thead>\n",
              "  <tbody>\n",
              "    <tr>\n",
              "      <th>Income</th>\n",
              "      <td>3.183923</td>\n",
              "    </tr>\n",
              "    <tr>\n",
              "      <th>Monthly Premium Auto</th>\n",
              "      <td>27.569851</td>\n",
              "    </tr>\n",
              "    <tr>\n",
              "      <th>Months Since Last Claim</th>\n",
              "      <td>1.009934</td>\n",
              "    </tr>\n",
              "    <tr>\n",
              "      <th>Months Since Policy Inception</th>\n",
              "      <td>1.022048</td>\n",
              "    </tr>\n",
              "    <tr>\n",
              "      <th>Total Claim Amount</th>\n",
              "      <td>4.396905</td>\n",
              "    </tr>\n",
              "    <tr>\n",
              "      <th>Number of Open Complaints</th>\n",
              "      <td>1.009196</td>\n",
              "    </tr>\n",
              "    <tr>\n",
              "      <th>Number of Policies</th>\n",
              "      <td>1.019460</td>\n",
              "    </tr>\n",
              "    <tr>\n",
              "      <th>State_California</th>\n",
              "      <td>1.878492</td>\n",
              "    </tr>\n",
              "    <tr>\n",
              "      <th>State_Nevada</th>\n",
              "      <td>1.378696</td>\n",
              "    </tr>\n",
              "    <tr>\n",
              "      <th>State_Oregon</th>\n",
              "      <td>1.813907</td>\n",
              "    </tr>\n",
              "    <tr>\n",
              "      <th>State_Washington</th>\n",
              "      <td>1.346631</td>\n",
              "    </tr>\n",
              "    <tr>\n",
              "      <th>Response_Yes</th>\n",
              "      <td>1.223327</td>\n",
              "    </tr>\n",
              "    <tr>\n",
              "      <th>Coverage_Extended</th>\n",
              "      <td>3.025019</td>\n",
              "    </tr>\n",
              "    <tr>\n",
              "      <th>Coverage_Premium</th>\n",
              "      <td>5.293859</td>\n",
              "    </tr>\n",
              "    <tr>\n",
              "      <th>Education_College</th>\n",
              "      <td>1.408609</td>\n",
              "    </tr>\n",
              "    <tr>\n",
              "      <th>Education_Doctor</th>\n",
              "      <td>1.100259</td>\n",
              "    </tr>\n",
              "    <tr>\n",
              "      <th>Education_High School or Below</th>\n",
              "      <td>1.426087</td>\n",
              "    </tr>\n",
              "    <tr>\n",
              "      <th>Education_Master</th>\n",
              "      <td>1.193819</td>\n",
              "    </tr>\n",
              "    <tr>\n",
              "      <th>EmploymentStatus_Employed</th>\n",
              "      <td>6.832471</td>\n",
              "    </tr>\n",
              "    <tr>\n",
              "      <th>EmploymentStatus_Medical Leave</th>\n",
              "      <td>1.986035</td>\n",
              "    </tr>\n",
              "    <tr>\n",
              "      <th>EmploymentStatus_Retired</th>\n",
              "      <td>1.752228</td>\n",
              "    </tr>\n",
              "    <tr>\n",
              "      <th>EmploymentStatus_Unemployed</th>\n",
              "      <td>5.610118</td>\n",
              "    </tr>\n",
              "    <tr>\n",
              "      <th>Gender_M</th>\n",
              "      <td>1.023864</td>\n",
              "    </tr>\n",
              "    <tr>\n",
              "      <th>Location Code_Suburban</th>\n",
              "      <td>3.735429</td>\n",
              "    </tr>\n",
              "    <tr>\n",
              "      <th>Location Code_Urban</th>\n",
              "      <td>1.933874</td>\n",
              "    </tr>\n",
              "    <tr>\n",
              "      <th>Marital Status_Married</th>\n",
              "      <td>2.141867</td>\n",
              "    </tr>\n",
              "    <tr>\n",
              "      <th>Marital Status_Single</th>\n",
              "      <td>2.327253</td>\n",
              "    </tr>\n",
              "    <tr>\n",
              "      <th>Policy Type_Personal Auto</th>\n",
              "      <td>inf</td>\n",
              "    </tr>\n",
              "    <tr>\n",
              "      <th>Policy Type_Special Auto</th>\n",
              "      <td>inf</td>\n",
              "    </tr>\n",
              "    <tr>\n",
              "      <th>Policy_Corporate L2</th>\n",
              "      <td>2.495167</td>\n",
              "    </tr>\n",
              "    <tr>\n",
              "      <th>Policy_Corporate L3</th>\n",
              "      <td>3.414004</td>\n",
              "    </tr>\n",
              "    <tr>\n",
              "      <th>Policy_Personal L1</th>\n",
              "      <td>inf</td>\n",
              "    </tr>\n",
              "    <tr>\n",
              "      <th>Policy_Personal L2</th>\n",
              "      <td>inf</td>\n",
              "    </tr>\n",
              "    <tr>\n",
              "      <th>Policy_Personal L3</th>\n",
              "      <td>inf</td>\n",
              "    </tr>\n",
              "    <tr>\n",
              "      <th>Policy_Special L1</th>\n",
              "      <td>inf</td>\n",
              "    </tr>\n",
              "    <tr>\n",
              "      <th>Policy_Special L2</th>\n",
              "      <td>inf</td>\n",
              "    </tr>\n",
              "    <tr>\n",
              "      <th>Policy_Special L3</th>\n",
              "      <td>inf</td>\n",
              "    </tr>\n",
              "    <tr>\n",
              "      <th>Renew Offer Type_Offer2</th>\n",
              "      <td>1.379520</td>\n",
              "    </tr>\n",
              "    <tr>\n",
              "      <th>Renew Offer Type_Offer3</th>\n",
              "      <td>1.228733</td>\n",
              "    </tr>\n",
              "    <tr>\n",
              "      <th>Renew Offer Type_Offer4</th>\n",
              "      <td>1.255994</td>\n",
              "    </tr>\n",
              "    <tr>\n",
              "      <th>Sales Channel_Branch</th>\n",
              "      <td>1.271889</td>\n",
              "    </tr>\n",
              "    <tr>\n",
              "      <th>Sales Channel_Call Center</th>\n",
              "      <td>1.252330</td>\n",
              "    </tr>\n",
              "    <tr>\n",
              "      <th>Sales Channel_Web</th>\n",
              "      <td>1.220698</td>\n",
              "    </tr>\n",
              "    <tr>\n",
              "      <th>Vehicle Class_Luxury Car</th>\n",
              "      <td>7.781484</td>\n",
              "    </tr>\n",
              "    <tr>\n",
              "      <th>Vehicle Class_Luxury SUV</th>\n",
              "      <td>8.611290</td>\n",
              "    </tr>\n",
              "    <tr>\n",
              "      <th>Vehicle Class_SUV</th>\n",
              "      <td>7.645435</td>\n",
              "    </tr>\n",
              "    <tr>\n",
              "      <th>Vehicle Class_Sports Car</th>\n",
              "      <td>3.220140</td>\n",
              "    </tr>\n",
              "    <tr>\n",
              "      <th>Vehicle Class_Two-Door Car</th>\n",
              "      <td>1.124315</td>\n",
              "    </tr>\n",
              "    <tr>\n",
              "      <th>Vehicle Size_Medsize</th>\n",
              "      <td>2.334500</td>\n",
              "    </tr>\n",
              "    <tr>\n",
              "      <th>Vehicle Size_Small</th>\n",
              "      <td>2.360275</td>\n",
              "    </tr>\n",
              "  </tbody>\n",
              "</table>\n",
              "</div>"
            ],
            "text/plain": [
              "                                      vif\n",
              "Income                           3.183923\n",
              "Monthly Premium Auto            27.569851\n",
              "Months Since Last Claim          1.009934\n",
              "Months Since Policy Inception    1.022048\n",
              "Total Claim Amount               4.396905\n",
              "Number of Open Complaints        1.009196\n",
              "Number of Policies               1.019460\n",
              "State_California                 1.878492\n",
              "State_Nevada                     1.378696\n",
              "State_Oregon                     1.813907\n",
              "State_Washington                 1.346631\n",
              "Response_Yes                     1.223327\n",
              "Coverage_Extended                3.025019\n",
              "Coverage_Premium                 5.293859\n",
              "Education_College                1.408609\n",
              "Education_Doctor                 1.100259\n",
              "Education_High School or Below   1.426087\n",
              "Education_Master                 1.193819\n",
              "EmploymentStatus_Employed        6.832471\n",
              "EmploymentStatus_Medical Leave   1.986035\n",
              "EmploymentStatus_Retired         1.752228\n",
              "EmploymentStatus_Unemployed      5.610118\n",
              "Gender_M                         1.023864\n",
              "Location Code_Suburban           3.735429\n",
              "Location Code_Urban              1.933874\n",
              "Marital Status_Married           2.141867\n",
              "Marital Status_Single            2.327253\n",
              "Policy Type_Personal Auto             inf\n",
              "Policy Type_Special Auto              inf\n",
              "Policy_Corporate L2              2.495167\n",
              "Policy_Corporate L3              3.414004\n",
              "Policy_Personal L1                    inf\n",
              "Policy_Personal L2                    inf\n",
              "Policy_Personal L3                    inf\n",
              "Policy_Special L1                     inf\n",
              "Policy_Special L2                     inf\n",
              "Policy_Special L3                     inf\n",
              "Renew Offer Type_Offer2          1.379520\n",
              "Renew Offer Type_Offer3          1.228733\n",
              "Renew Offer Type_Offer4          1.255994\n",
              "Sales Channel_Branch             1.271889\n",
              "Sales Channel_Call Center        1.252330\n",
              "Sales Channel_Web                1.220698\n",
              "Vehicle Class_Luxury Car         7.781484\n",
              "Vehicle Class_Luxury SUV         8.611290\n",
              "Vehicle Class_SUV                7.645435\n",
              "Vehicle Class_Sports Car         3.220140\n",
              "Vehicle Class_Two-Door Car       1.124315\n",
              "Vehicle Size_Medsize             2.334500\n",
              "Vehicle Size_Small               2.360275"
            ]
          },
          "metadata": {
            "tags": []
          },
          "execution_count": 76
        }
      ]
    },
    {
      "cell_type": "markdown",
      "metadata": {
        "id": "4ke242z3tx2M"
      },
      "source": [
        "- we can see that there is high VIF in column Policy & policy type Also we have seen in statistical approach these veriables are not significant to predict target hence from above 2 conclusion we can remove them\n"
      ]
    },
    {
      "cell_type": "code",
      "metadata": {
        "id": "k-IVxWiVtFnm"
      },
      "source": [
        "\n",
        "from sklearn.model_selection import train_test_split\n",
        "X=data.drop(['CLV','Policy Type_Personal Auto','Policy Type_Special Auto','Policy_Personal L1','Policy_Personal L2','Policy_Personal L3',\n",
        "'Policy_Special L1','Policy_Special L2','Policy_Special L3'],axis=1)\n",
        "y=data['CLV']  "
      ],
      "execution_count": 79,
      "outputs": []
    },
    {
      "cell_type": "code",
      "metadata": {
        "id": "7ez-vFGYtFtm"
      },
      "source": [
        "y =np.log(y)\n",
        "X_train,X_test,y_train,y_test=train_test_split(X,y,test_size=0.30,random_state=42)"
      ],
      "execution_count": 80,
      "outputs": []
    },
    {
      "cell_type": "code",
      "metadata": {
        "colab": {
          "base_uri": "https://localhost:8080/"
        },
        "id": "ykikbdX5tFyq",
        "outputId": "0410d053-66a1-4067-e416-e0fbaf626efa"
      },
      "source": [
        "print(X_train.shape)\n",
        "print(y_train.shape)\n",
        "print(X_test.shape)\n",
        "print(y_test.shape)"
      ],
      "execution_count": 81,
      "outputs": [
        {
          "output_type": "stream",
          "text": [
            "(6393, 42)\n",
            "(6393,)\n",
            "(2741, 42)\n",
            "(2741,)\n"
          ],
          "name": "stdout"
        }
      ]
    },
    {
      "cell_type": "markdown",
      "metadata": {
        "id": "87JkC348uCum"
      },
      "source": [
        "### Model Building\n",
        "\n",
        " #### Linear Regression"
      ]
    },
    {
      "cell_type": "code",
      "metadata": {
        "colab": {
          "base_uri": "https://localhost:8080/"
        },
        "id": "jIBxpGPwtF48",
        "outputId": "5a6859cf-3c66-4ed4-af03-ef606a8dcd43"
      },
      "source": [
        "from sklearn.linear_model import LinearRegression\n",
        "\n",
        "lr = LinearRegression()\n",
        "model = lr.fit(X_train,y_train)\n",
        "print(f'R^2 score for train: {lr.score(X_train, y_train)}')\n",
        "print(f'R^2 score for test: {lr.score(X_test, y_test)}')"
      ],
      "execution_count": 83,
      "outputs": [
        {
          "output_type": "stream",
          "text": [
            "R^2 score for train: 0.26073373730563176\n",
            "R^2 score for test: 0.25484160264997946\n"
          ],
          "name": "stdout"
        }
      ]
    },
    {
      "cell_type": "code",
      "metadata": {
        "id": "VJH5Hg-7uCTG"
      },
      "source": [
        "y_pred = model.predict(X_test)"
      ],
      "execution_count": 86,
      "outputs": []
    },
    {
      "cell_type": "code",
      "metadata": {
        "id": "rn6HvqKvuCXL"
      },
      "source": [
        "from sklearn.metrics import mean_squared_error,r2_score,mean_absolute_error"
      ],
      "execution_count": 87,
      "outputs": []
    },
    {
      "cell_type": "code",
      "metadata": {
        "colab": {
          "base_uri": "https://localhost:8080/"
        },
        "id": "7o9CvPtLtF-M",
        "outputId": "b0d045b2-d01f-4c23-dc44-17cadcb8380e"
      },
      "source": [
        "\n",
        "print('RMSE:',np.sqrt(mean_squared_error(y_test,y_pred)))\n",
        "print(\"MAE\",mean_absolute_error(y_test,y_pred))\n",
        "print('R-squared:',r2_score(y_test,y_pred))"
      ],
      "execution_count": 88,
      "outputs": [
        {
          "output_type": "stream",
          "text": [
            "RMSE: 0.577231415348726\n",
            "MAE 0.4455033282270872\n",
            "R-squared: 0.25484160264997946\n"
          ],
          "name": "stdout"
        }
      ]
    },
    {
      "cell_type": "markdown",
      "metadata": {
        "id": "pMX25VSCuvxg"
      },
      "source": [
        "#### Ridge and Lasso Regression"
      ]
    },
    {
      "cell_type": "code",
      "metadata": {
        "id": "Uk3mVK19tGDX"
      },
      "source": [
        "from sklearn.linear_model import Ridge, Lasso"
      ],
      "execution_count": 90,
      "outputs": []
    },
    {
      "cell_type": "code",
      "metadata": {
        "colab": {
          "base_uri": "https://localhost:8080/"
        },
        "id": "N0iptIXUtGIm",
        "outputId": "5efc1719-e4d2-4649-90eb-b0814f6e9cb2"
      },
      "source": [
        "ridge=Ridge(alpha=0.1,normalize=True)\n",
        "ridge.fit(X_train,y_train)\n",
        "print('Ridge Regression')\n",
        "y_pred = ridge.predict(X_test)\n",
        "print('RMSE:', np.sqrt(mean_squared_error(y_test, y_pred)))\n",
        "print('R-squared:',r2_score(y_test,y_pred))"
      ],
      "execution_count": 92,
      "outputs": [
        {
          "output_type": "stream",
          "text": [
            "Ridge Regression\n",
            "RMSE: 0.5775916080118745\n",
            "R-squared: 0.25391135415166965\n"
          ],
          "name": "stdout"
        }
      ]
    },
    {
      "cell_type": "code",
      "metadata": {
        "colab": {
          "base_uri": "https://localhost:8080/"
        },
        "id": "tqMA4qritGNv",
        "outputId": "b3be3c14-1602-4a00-d12d-20279df98f8b"
      },
      "source": [
        "ridge=Ridge(alpha=1.0,normalize=True)\n",
        "ridge.fit(X_train,y_train)\n",
        "print('Ridge Regression')\n",
        "y_pred = ridge.predict(X_test)\n",
        "print('RMSE:', np.sqrt(mean_squared_error(y_test, y_pred)))\n",
        "print('R-squared:',r2_score(y_test,y_pred))"
      ],
      "execution_count": 93,
      "outputs": [
        {
          "output_type": "stream",
          "text": [
            "Ridge Regression\n",
            "RMSE: 0.5925342452447084\n",
            "R-squared: 0.2148084953609083\n"
          ],
          "name": "stdout"
        }
      ]
    },
    {
      "cell_type": "code",
      "metadata": {
        "colab": {
          "base_uri": "https://localhost:8080/"
        },
        "id": "vz3AAXqFmadV",
        "outputId": "ac5fc378-0362-4323-ede1-ba6cba948072"
      },
      "source": [
        "lasso = Lasso(random_state=1)\n",
        "lasso.fit(X_train,y_train)\n",
        "print('Ridge Regression')\n",
        "y_pred = lasso.predict(X_test)\n",
        "print('RMSE:', np.sqrt(mean_squared_error(y_test, y_pred)))\n",
        "print('R-squared:',r2_score(y_test,y_pred))"
      ],
      "execution_count": 94,
      "outputs": [
        {
          "output_type": "stream",
          "text": [
            "Ridge Regression\n",
            "RMSE: 0.5992937645386806\n",
            "R-squared: 0.19679167777854611\n"
          ],
          "name": "stdout"
        }
      ]
    },
    {
      "cell_type": "code",
      "metadata": {
        "id": "ZazxX7_MvAVU"
      },
      "source": [
        "from sklearn.tree import DecisionTreeRegressor"
      ],
      "execution_count": 95,
      "outputs": []
    },
    {
      "cell_type": "code",
      "metadata": {
        "colab": {
          "base_uri": "https://localhost:8080/"
        },
        "id": "krneN6IFvDpJ",
        "outputId": "8f1c18a2-91cd-47c9-9b1f-4df76e24cdf0"
      },
      "source": [
        "dt = DecisionTreeRegressor(random_state=1)\n",
        "\n",
        "dt.fit(X_train,y_train)\n",
        "y_pred=dt.predict(X_test)\n",
        "print('RMSE:',np.sqrt(mean_squared_error(y_test,y_pred)))\n",
        "print(\"MAE\",mean_absolute_error(y_test,y_pred))\n",
        "print('R-squared:',r2_score(y_test,y_pred))"
      ],
      "execution_count": 96,
      "outputs": [
        {
          "output_type": "stream",
          "text": [
            "RMSE: 0.2668170587050659\n",
            "MAE 0.10536932394383777\n",
            "R-squared: 0.840787974934538\n"
          ],
          "name": "stdout"
        }
      ]
    },
    {
      "cell_type": "code",
      "metadata": {
        "colab": {
          "base_uri": "https://localhost:8080/"
        },
        "id": "gsChlhFAvGho",
        "outputId": "ac19d71c-affb-48a6-ad2a-f2c016cd0c7d"
      },
      "source": [
        "X_train.columns"
      ],
      "execution_count": 97,
      "outputs": [
        {
          "output_type": "execute_result",
          "data": {
            "text/plain": [
              "Index(['Income', 'Monthly Premium Auto', 'Months Since Last Claim',\n",
              "       'Months Since Policy Inception', 'Total Claim Amount',\n",
              "       'Number of Open Complaints', 'Number of Policies', 'State_California',\n",
              "       'State_Nevada', 'State_Oregon', 'State_Washington', 'Response_Yes',\n",
              "       'Coverage_Extended', 'Coverage_Premium', 'Education_College',\n",
              "       'Education_Doctor', 'Education_High School or Below',\n",
              "       'Education_Master', 'EmploymentStatus_Employed',\n",
              "       'EmploymentStatus_Medical Leave', 'EmploymentStatus_Retired',\n",
              "       'EmploymentStatus_Unemployed', 'Gender_M', 'Location Code_Suburban',\n",
              "       'Location Code_Urban', 'Marital Status_Married',\n",
              "       'Marital Status_Single', 'Policy_Corporate L2', 'Policy_Corporate L3',\n",
              "       'Renew Offer Type_Offer2', 'Renew Offer Type_Offer3',\n",
              "       'Renew Offer Type_Offer4', 'Sales Channel_Branch',\n",
              "       'Sales Channel_Call Center', 'Sales Channel_Web',\n",
              "       'Vehicle Class_Luxury Car', 'Vehicle Class_Luxury SUV',\n",
              "       'Vehicle Class_SUV', 'Vehicle Class_Sports Car',\n",
              "       'Vehicle Class_Two-Door Car', 'Vehicle Size_Medsize',\n",
              "       'Vehicle Size_Small'],\n",
              "      dtype='object')"
            ]
          },
          "metadata": {
            "tags": []
          },
          "execution_count": 97
        }
      ]
    },
    {
      "cell_type": "code",
      "metadata": {
        "id": "GRCkv9zbvSj3"
      },
      "source": [
        "from sklearn.ensemble import RandomForestRegressor"
      ],
      "execution_count": 98,
      "outputs": []
    },
    {
      "cell_type": "code",
      "metadata": {
        "colab": {
          "base_uri": "https://localhost:8080/"
        },
        "id": "gPCOmeLCvSnH",
        "outputId": "33aa59b2-5626-4a1c-b232-cea8fd7e7e88"
      },
      "source": [
        "rf = RandomForestRegressor(random_state=1)\n",
        "\n",
        "rf.fit(X_train,y_train)\n",
        "\n",
        "y_pred=rf.predict(X_test)\n",
        "print('RMSE:',np.sqrt(mean_squared_error(y_test,y_pred)))\n",
        "print(\"MAE\",mean_absolute_error(y_test,y_pred))\n",
        "print('R-squared:',r2_score(y_test,y_pred))\n"
      ],
      "execution_count": 99,
      "outputs": [
        {
          "output_type": "stream",
          "text": [
            "RMSE: 0.19615072746667536\n",
            "MAE 0.08892265505040524\n",
            "R-squared: 0.9139544276201418\n"
          ],
          "name": "stdout"
        }
      ]
    },
    {
      "cell_type": "markdown",
      "metadata": {
        "id": "nXFdychCvxFx"
      },
      "source": [
        "\n",
        "Hyperparameter tuning of random forest"
      ]
    },
    {
      "cell_type": "code",
      "metadata": {
        "colab": {
          "base_uri": "https://localhost:8080/"
        },
        "id": "HhN3GjHXvSsf",
        "outputId": "46158132-6733-4a92-9269-a42f73272de7"
      },
      "source": [
        "from sklearn.model_selection import GridSearchCV\n",
        "rf = RandomForestRegressor()\n",
        "params = {\n",
        "        'max_depth' : [10,20,30],\n",
        "        \n",
        "        'n_estimators' : [100,200,50],\n",
        "        \n",
        "        \"bootstrap\" : [True, False],\n",
        "    \n",
        "        'max_features': ['auto', 'sqrt', 'log2']\n",
        "        \n",
        "        }\n",
        "\n",
        "grid = GridSearchCV(estimator = rf, param_grid=params, cv = 5, n_jobs = -1, return_train_score = True )\n",
        "grid.fit(X,y)"
      ],
      "execution_count": 100,
      "outputs": [
        {
          "output_type": "execute_result",
          "data": {
            "text/plain": [
              "GridSearchCV(cv=5, error_score=nan,\n",
              "             estimator=RandomForestRegressor(bootstrap=True, ccp_alpha=0.0,\n",
              "                                             criterion='mse', max_depth=None,\n",
              "                                             max_features='auto',\n",
              "                                             max_leaf_nodes=None,\n",
              "                                             max_samples=None,\n",
              "                                             min_impurity_decrease=0.0,\n",
              "                                             min_impurity_split=None,\n",
              "                                             min_samples_leaf=1,\n",
              "                                             min_samples_split=2,\n",
              "                                             min_weight_fraction_leaf=0.0,\n",
              "                                             n_estimators=100, n_jobs=None,\n",
              "                                             oob_score=False, random_state=None,\n",
              "                                             verbose=0, warm_start=False),\n",
              "             iid='deprecated', n_jobs=-1,\n",
              "             param_grid={'bootstrap': [True, False], 'max_depth': [10, 20, 30],\n",
              "                         'max_features': ['auto', 'sqrt', 'log2'],\n",
              "                         'n_estimators': [100, 200, 50]},\n",
              "             pre_dispatch='2*n_jobs', refit=True, return_train_score=True,\n",
              "             scoring=None, verbose=0)"
            ]
          },
          "metadata": {
            "tags": []
          },
          "execution_count": 100
        }
      ]
    },
    {
      "cell_type": "code",
      "metadata": {
        "colab": {
          "base_uri": "https://localhost:8080/"
        },
        "id": "Ku7FsMFQvSxd",
        "outputId": "eda0e8db-c84d-4d18-8a0f-82767d875b2a"
      },
      "source": [
        "grid.best_params_"
      ],
      "execution_count": 101,
      "outputs": [
        {
          "output_type": "execute_result",
          "data": {
            "text/plain": [
              "{'bootstrap': True,\n",
              " 'max_depth': 20,\n",
              " 'max_features': 'auto',\n",
              " 'n_estimators': 200}"
            ]
          },
          "metadata": {
            "tags": []
          },
          "execution_count": 101
        }
      ]
    },
    {
      "cell_type": "code",
      "metadata": {
        "colab": {
          "base_uri": "https://localhost:8080/"
        },
        "id": "4Fl55EMBvS22",
        "outputId": "4360377a-fad0-4d57-8088-f95fc98c0019"
      },
      "source": [
        "grid.best_score_"
      ],
      "execution_count": 103,
      "outputs": [
        {
          "output_type": "execute_result",
          "data": {
            "text/plain": [
              "0.9113420772585495"
            ]
          },
          "metadata": {
            "tags": []
          },
          "execution_count": 103
        }
      ]
    },
    {
      "cell_type": "code",
      "metadata": {
        "colab": {
          "base_uri": "https://localhost:8080/"
        },
        "id": "U1O3HT3svS8Q",
        "outputId": "496afff6-4ea2-4871-9cae-92ec6614a11e"
      },
      "source": [
        "\n",
        "rf = RandomForestRegressor(**grid.best_params_)\n",
        "\n",
        "rf.fit(X_train,y_train)\n",
        "\n",
        "y_pred=rf.predict(X_test)\n",
        "print('RMSE:',np.sqrt(mean_squared_error(y_test,y_pred)))\n",
        "print(\"MAE\",mean_absolute_error(y_test,y_pred))\n",
        "print('R-squared:',r2_score(y_test,y_pred))"
      ],
      "execution_count": 104,
      "outputs": [
        {
          "output_type": "stream",
          "text": [
            "RMSE: 0.19681618809920656\n",
            "MAE 0.08944918789516049\n",
            "R-squared: 0.9133696011272336\n"
          ],
          "name": "stdout"
        }
      ]
    },
    {
      "cell_type": "code",
      "metadata": {
        "id": "d2MZWLqbvTAz"
      },
      "source": [
        "df_feat = pd.DataFrame(rf.feature_importances_, index = X.columns, columns = ['Score']).sort_values('Score', ascending = False)"
      ],
      "execution_count": 109,
      "outputs": []
    },
    {
      "cell_type": "code",
      "metadata": {
        "colab": {
          "base_uri": "https://localhost:8080/",
          "height": 1000
        },
        "id": "aKS3HnD0vTF8",
        "outputId": "6bd8b039-01f2-4af0-9ffd-89d2b1f2e9cc"
      },
      "source": [
        "df_feat"
      ],
      "execution_count": 110,
      "outputs": [
        {
          "output_type": "execute_result",
          "data": {
            "text/html": [
              "<div>\n",
              "<style scoped>\n",
              "    .dataframe tbody tr th:only-of-type {\n",
              "        vertical-align: middle;\n",
              "    }\n",
              "\n",
              "    .dataframe tbody tr th {\n",
              "        vertical-align: top;\n",
              "    }\n",
              "\n",
              "    .dataframe thead th {\n",
              "        text-align: right;\n",
              "    }\n",
              "</style>\n",
              "<table border=\"1\" class=\"dataframe\">\n",
              "  <thead>\n",
              "    <tr style=\"text-align: right;\">\n",
              "      <th></th>\n",
              "      <th>Score</th>\n",
              "    </tr>\n",
              "  </thead>\n",
              "  <tbody>\n",
              "    <tr>\n",
              "      <th>Number of Policies</th>\n",
              "      <td>0.672579</td>\n",
              "    </tr>\n",
              "    <tr>\n",
              "      <th>Monthly Premium Auto</th>\n",
              "      <td>0.232257</td>\n",
              "    </tr>\n",
              "    <tr>\n",
              "      <th>Total Claim Amount</th>\n",
              "      <td>0.014057</td>\n",
              "    </tr>\n",
              "    <tr>\n",
              "      <th>Income</th>\n",
              "      <td>0.012604</td>\n",
              "    </tr>\n",
              "    <tr>\n",
              "      <th>Months Since Last Claim</th>\n",
              "      <td>0.012384</td>\n",
              "    </tr>\n",
              "    <tr>\n",
              "      <th>Months Since Policy Inception</th>\n",
              "      <td>0.012313</td>\n",
              "    </tr>\n",
              "    <tr>\n",
              "      <th>Number of Open Complaints</th>\n",
              "      <td>0.003344</td>\n",
              "    </tr>\n",
              "    <tr>\n",
              "      <th>Coverage_Extended</th>\n",
              "      <td>0.002995</td>\n",
              "    </tr>\n",
              "    <tr>\n",
              "      <th>EmploymentStatus_Employed</th>\n",
              "      <td>0.002809</td>\n",
              "    </tr>\n",
              "    <tr>\n",
              "      <th>Renew Offer Type_Offer2</th>\n",
              "      <td>0.002032</td>\n",
              "    </tr>\n",
              "    <tr>\n",
              "      <th>Gender_M</th>\n",
              "      <td>0.001929</td>\n",
              "    </tr>\n",
              "    <tr>\n",
              "      <th>Education_High School or Below</th>\n",
              "      <td>0.001775</td>\n",
              "    </tr>\n",
              "    <tr>\n",
              "      <th>Sales Channel_Branch</th>\n",
              "      <td>0.001745</td>\n",
              "    </tr>\n",
              "    <tr>\n",
              "      <th>Marital Status_Single</th>\n",
              "      <td>0.001603</td>\n",
              "    </tr>\n",
              "    <tr>\n",
              "      <th>Marital Status_Married</th>\n",
              "      <td>0.001554</td>\n",
              "    </tr>\n",
              "    <tr>\n",
              "      <th>Education_College</th>\n",
              "      <td>0.001470</td>\n",
              "    </tr>\n",
              "    <tr>\n",
              "      <th>Response_Yes</th>\n",
              "      <td>0.001409</td>\n",
              "    </tr>\n",
              "    <tr>\n",
              "      <th>Vehicle Class_Two-Door Car</th>\n",
              "      <td>0.001283</td>\n",
              "    </tr>\n",
              "    <tr>\n",
              "      <th>State_California</th>\n",
              "      <td>0.001198</td>\n",
              "    </tr>\n",
              "    <tr>\n",
              "      <th>EmploymentStatus_Medical Leave</th>\n",
              "      <td>0.001181</td>\n",
              "    </tr>\n",
              "    <tr>\n",
              "      <th>Sales Channel_Web</th>\n",
              "      <td>0.001171</td>\n",
              "    </tr>\n",
              "    <tr>\n",
              "      <th>State_Nevada</th>\n",
              "      <td>0.001170</td>\n",
              "    </tr>\n",
              "    <tr>\n",
              "      <th>Renew Offer Type_Offer3</th>\n",
              "      <td>0.001164</td>\n",
              "    </tr>\n",
              "    <tr>\n",
              "      <th>Sales Channel_Call Center</th>\n",
              "      <td>0.001132</td>\n",
              "    </tr>\n",
              "    <tr>\n",
              "      <th>State_Oregon</th>\n",
              "      <td>0.001123</td>\n",
              "    </tr>\n",
              "    <tr>\n",
              "      <th>Vehicle Size_Small</th>\n",
              "      <td>0.001120</td>\n",
              "    </tr>\n",
              "    <tr>\n",
              "      <th>Location Code_Urban</th>\n",
              "      <td>0.001100</td>\n",
              "    </tr>\n",
              "    <tr>\n",
              "      <th>Education_Master</th>\n",
              "      <td>0.001094</td>\n",
              "    </tr>\n",
              "    <tr>\n",
              "      <th>Vehicle Size_Medsize</th>\n",
              "      <td>0.001090</td>\n",
              "    </tr>\n",
              "    <tr>\n",
              "      <th>Renew Offer Type_Offer4</th>\n",
              "      <td>0.000944</td>\n",
              "    </tr>\n",
              "    <tr>\n",
              "      <th>EmploymentStatus_Unemployed</th>\n",
              "      <td>0.000894</td>\n",
              "    </tr>\n",
              "    <tr>\n",
              "      <th>Policy_Corporate L3</th>\n",
              "      <td>0.000800</td>\n",
              "    </tr>\n",
              "    <tr>\n",
              "      <th>State_Washington</th>\n",
              "      <td>0.000775</td>\n",
              "    </tr>\n",
              "    <tr>\n",
              "      <th>Vehicle Class_Sports Car</th>\n",
              "      <td>0.000736</td>\n",
              "    </tr>\n",
              "    <tr>\n",
              "      <th>EmploymentStatus_Retired</th>\n",
              "      <td>0.000683</td>\n",
              "    </tr>\n",
              "    <tr>\n",
              "      <th>Policy_Corporate L2</th>\n",
              "      <td>0.000553</td>\n",
              "    </tr>\n",
              "    <tr>\n",
              "      <th>Coverage_Premium</th>\n",
              "      <td>0.000530</td>\n",
              "    </tr>\n",
              "    <tr>\n",
              "      <th>Education_Doctor</th>\n",
              "      <td>0.000479</td>\n",
              "    </tr>\n",
              "    <tr>\n",
              "      <th>Location Code_Suburban</th>\n",
              "      <td>0.000476</td>\n",
              "    </tr>\n",
              "    <tr>\n",
              "      <th>Vehicle Class_SUV</th>\n",
              "      <td>0.000358</td>\n",
              "    </tr>\n",
              "    <tr>\n",
              "      <th>Vehicle Class_Luxury SUV</th>\n",
              "      <td>0.000050</td>\n",
              "    </tr>\n",
              "    <tr>\n",
              "      <th>Vehicle Class_Luxury Car</th>\n",
              "      <td>0.000037</td>\n",
              "    </tr>\n",
              "  </tbody>\n",
              "</table>\n",
              "</div>"
            ],
            "text/plain": [
              "                                   Score\n",
              "Number of Policies              0.672579\n",
              "Monthly Premium Auto            0.232257\n",
              "Total Claim Amount              0.014057\n",
              "Income                          0.012604\n",
              "Months Since Last Claim         0.012384\n",
              "Months Since Policy Inception   0.012313\n",
              "Number of Open Complaints       0.003344\n",
              "Coverage_Extended               0.002995\n",
              "EmploymentStatus_Employed       0.002809\n",
              "Renew Offer Type_Offer2         0.002032\n",
              "Gender_M                        0.001929\n",
              "Education_High School or Below  0.001775\n",
              "Sales Channel_Branch            0.001745\n",
              "Marital Status_Single           0.001603\n",
              "Marital Status_Married          0.001554\n",
              "Education_College               0.001470\n",
              "Response_Yes                    0.001409\n",
              "Vehicle Class_Two-Door Car      0.001283\n",
              "State_California                0.001198\n",
              "EmploymentStatus_Medical Leave  0.001181\n",
              "Sales Channel_Web               0.001171\n",
              "State_Nevada                    0.001170\n",
              "Renew Offer Type_Offer3         0.001164\n",
              "Sales Channel_Call Center       0.001132\n",
              "State_Oregon                    0.001123\n",
              "Vehicle Size_Small              0.001120\n",
              "Location Code_Urban             0.001100\n",
              "Education_Master                0.001094\n",
              "Vehicle Size_Medsize            0.001090\n",
              "Renew Offer Type_Offer4         0.000944\n",
              "EmploymentStatus_Unemployed     0.000894\n",
              "Policy_Corporate L3             0.000800\n",
              "State_Washington                0.000775\n",
              "Vehicle Class_Sports Car        0.000736\n",
              "EmploymentStatus_Retired        0.000683\n",
              "Policy_Corporate L2             0.000553\n",
              "Coverage_Premium                0.000530\n",
              "Education_Doctor                0.000479\n",
              "Location Code_Suburban          0.000476\n",
              "Vehicle Class_SUV               0.000358\n",
              "Vehicle Class_Luxury SUV        0.000050\n",
              "Vehicle Class_Luxury Car        0.000037"
            ]
          },
          "metadata": {
            "tags": []
          },
          "execution_count": 110
        }
      ]
    },
    {
      "cell_type": "code",
      "metadata": {
        "colab": {
          "base_uri": "https://localhost:8080/",
          "height": 590
        },
        "id": "yn57pRaXz4L1",
        "outputId": "ea9cf813-78ec-4b8f-fe84-6194ab09333e"
      },
      "source": [
        "pd.DataFrame(rf.feature_importances_,index=X.columns,columns=['Score']).sort_values(\"Score\",ascending=False).plot(kind='bar',figsize=(20,7))\n",
        "plt.show()"
      ],
      "execution_count": 111,
      "outputs": [
        {
          "output_type": "display_data",
          "data": {
            "image/png": "[encoded data removed]",
            "text/plain": [
              "<Figure size 1440x504 with 1 Axes>"
            ]
          },
          "metadata": {
            "tags": [],
            "needs_background": "light"
          }
        }
      ]
    },
    {
      "cell_type": "markdown",
      "metadata": {
        "id": "bvEYrYm6zzFD"
      },
      "source": [
        "- \n",
        "Random Forest Model with hyperparameter tuning using GridSearchCV gave the best RMSE and R^2 score.\n",
        "- No of Policies and Monthly Premium are the most important features in predicting CLV"
      ]
    },
    {
      "cell_type": "code",
      "metadata": {
        "id": "IbkKkcVIvTJn"
      },
      "source": [
        ""
      ],
      "execution_count": null,
      "outputs": []
    },
    {
      "cell_type": "code",
      "metadata": {
        "id": "X51pVIBdvTNX"
      },
      "source": [
        ""
      ],
      "execution_count": null,
      "outputs": []
    }
  ]
}